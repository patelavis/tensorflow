{
 "cells": [
  {
   "cell_type": "code",
   "execution_count": 1,
   "id": "cf9b50f6",
   "metadata": {
    "ExecuteTime": {
     "end_time": "2021-05-24T11:33:00.217169Z",
     "start_time": "2021-05-24T11:32:56.185722Z"
    }
   },
   "outputs": [],
   "source": [
    "import tensorflow as tf\n",
    "import numpy as np"
   ]
  },
  {
   "cell_type": "code",
   "execution_count": 2,
   "id": "655a19c5",
   "metadata": {
    "ExecuteTime": {
     "end_time": "2021-05-24T06:08:44.904750Z",
     "start_time": "2021-05-24T06:08:44.874704Z"
    }
   },
   "outputs": [
    {
     "data": {
      "text/plain": [
       "'2.5.0'"
      ]
     },
     "execution_count": 2,
     "metadata": {},
     "output_type": "execute_result"
    }
   ],
   "source": [
    "tf.__version__"
   ]
  },
  {
   "cell_type": "code",
   "execution_count": 3,
   "id": "fefe3ef9",
   "metadata": {
    "ExecuteTime": {
     "end_time": "2021-05-24T06:08:47.148929Z",
     "start_time": "2021-05-24T06:08:44.911730Z"
    }
   },
   "outputs": [
    {
     "data": {
      "text/plain": [
       "<tf.Tensor: shape=(4,), dtype=int32, numpy=array([1, 2, 3, 5])>"
      ]
     },
     "execution_count": 3,
     "metadata": {},
     "output_type": "execute_result"
    }
   ],
   "source": [
    "# Create vector \n",
    "vec_tf = tf.constant([1, 2, 3, 5])\n",
    "vec_tf"
   ]
  },
  {
   "cell_type": "code",
   "execution_count": 4,
   "id": "86d09baa",
   "metadata": {
    "ExecuteTime": {
     "end_time": "2021-05-24T06:08:47.178812Z",
     "start_time": "2021-05-24T06:08:47.152882Z"
    },
    "scrolled": true
   },
   "outputs": [
    {
     "data": {
      "text/plain": [
       "1"
      ]
     },
     "execution_count": 4,
     "metadata": {},
     "output_type": "execute_result"
    }
   ],
   "source": [
    "vec_tf.ndim"
   ]
  },
  {
   "cell_type": "code",
   "execution_count": 5,
   "id": "ddc5095b",
   "metadata": {
    "ExecuteTime": {
     "end_time": "2021-05-24T06:08:47.194769Z",
     "start_time": "2021-05-24T06:08:47.181805Z"
    }
   },
   "outputs": [
    {
     "data": {
      "text/plain": [
       "<tf.Tensor: shape=(3, 3), dtype=int32, numpy=\n",
       "array([[1, 2, 3],\n",
       "       [2, 3, 4],\n",
       "       [3, 4, 5]])>"
      ]
     },
     "execution_count": 5,
     "metadata": {},
     "output_type": "execute_result"
    }
   ],
   "source": [
    "# metrics \n",
    "metric_tf = tf.constant([[1, 2, 3],\n",
    "                         [2, 3, 4],\n",
    "                         [3, 4, 5]])\n",
    "metric_tf"
   ]
  },
  {
   "cell_type": "code",
   "execution_count": 6,
   "id": "f6913e40",
   "metadata": {
    "ExecuteTime": {
     "end_time": "2021-05-24T06:08:47.224689Z",
     "start_time": "2021-05-24T06:08:47.197763Z"
    }
   },
   "outputs": [
    {
     "data": {
      "text/plain": [
       "2"
      ]
     },
     "execution_count": 6,
     "metadata": {},
     "output_type": "execute_result"
    }
   ],
   "source": [
    "metric_tf.ndim"
   ]
  },
  {
   "cell_type": "code",
   "execution_count": 7,
   "id": "0cae5b5f",
   "metadata": {
    "ExecuteTime": {
     "end_time": "2021-05-24T06:08:47.255606Z",
     "start_time": "2021-05-24T06:08:47.228680Z"
    }
   },
   "outputs": [
    {
     "data": {
      "text/plain": [
       "<tf.Tensor: shape=(3, 2, 3), dtype=int32, numpy=\n",
       "array([[[1, 3, 4],\n",
       "        [2, 4, 5]],\n",
       "\n",
       "       [[3, 5, 6],\n",
       "        [4, 6, 7]],\n",
       "\n",
       "       [[6, 8, 9],\n",
       "        [7, 8, 9]]])>"
      ]
     },
     "execution_count": 7,
     "metadata": {},
     "output_type": "execute_result"
    }
   ],
   "source": [
    "# tensor\n",
    "ten_tf = tf.constant([[[1, 3, 4],\n",
    "                       [2, 4, 5]],\n",
    "                      [[3, 5, 6],\n",
    "                       [4, 6, 7]],\n",
    "                      [[6, 8, 9],\n",
    "                       [7, 8, 9]]])\n",
    "ten_tf"
   ]
  },
  {
   "cell_type": "code",
   "execution_count": 8,
   "id": "41a90a76",
   "metadata": {
    "ExecuteTime": {
     "end_time": "2021-05-24T06:08:47.270567Z",
     "start_time": "2021-05-24T06:08:47.259598Z"
    }
   },
   "outputs": [
    {
     "data": {
      "text/plain": [
       "3"
      ]
     },
     "execution_count": 8,
     "metadata": {},
     "output_type": "execute_result"
    }
   ],
   "source": [
    "ten_tf.ndim"
   ]
  },
  {
   "cell_type": "code",
   "execution_count": 9,
   "id": "c093fe05",
   "metadata": {
    "ExecuteTime": {
     "end_time": "2021-05-24T06:08:47.304477Z",
     "start_time": "2021-05-24T06:08:47.274556Z"
    }
   },
   "outputs": [
    {
     "data": {
      "text/plain": [
       "<tf.Variable 'Variable:0' shape=(3, 2, 3) dtype=int32, numpy=\n",
       "array([[[1, 3, 4],\n",
       "        [2, 4, 5]],\n",
       "\n",
       "       [[3, 5, 6],\n",
       "        [4, 6, 7]],\n",
       "\n",
       "       [[6, 8, 9],\n",
       "        [7, 8, 9]]])>"
      ]
     },
     "execution_count": 9,
     "metadata": {},
     "output_type": "execute_result"
    }
   ],
   "source": [
    "# variable tensor\n",
    "vr_ten = tf.Variable([[[1, 3, 4],\n",
    "                       [2, 4, 5]],\n",
    "                      [[3, 5, 6],\n",
    "                       [4, 6, 7]],\n",
    "                      [[6, 8, 9],\n",
    "                       [7, 8, 9]]])\n",
    "vr_ten"
   ]
  },
  {
   "cell_type": "code",
   "execution_count": 10,
   "id": "939c525b",
   "metadata": {
    "ExecuteTime": {
     "end_time": "2021-05-24T06:08:48.255892Z",
     "start_time": "2021-05-24T06:08:47.308466Z"
    }
   },
   "outputs": [
    {
     "ename": "AttributeError",
     "evalue": "'ResourceVariable' object has no attribute 'ndim'",
     "output_type": "error",
     "traceback": [
      "\u001b[1;31m---------------------------------------------------------------------------\u001b[0m",
      "\u001b[1;31mAttributeError\u001b[0m                            Traceback (most recent call last)",
      "\u001b[1;32m<ipython-input-10-a7e56e6521a6>\u001b[0m in \u001b[0;36m<module>\u001b[1;34m\u001b[0m\n\u001b[1;32m----> 1\u001b[1;33m \u001b[0mvr_ten\u001b[0m\u001b[1;33m.\u001b[0m\u001b[0mndim\u001b[0m\u001b[1;33m\u001b[0m\u001b[1;33m\u001b[0m\u001b[0m\n\u001b[0m",
      "\u001b[1;31mAttributeError\u001b[0m: 'ResourceVariable' object has no attribute 'ndim'"
     ]
    }
   ],
   "source": [
    "vr_ten.ndim"
   ]
  },
  {
   "cell_type": "code",
   "execution_count": 11,
   "id": "df192bd6",
   "metadata": {
    "ExecuteTime": {
     "end_time": "2021-05-24T06:08:54.514939Z",
     "start_time": "2021-05-24T06:08:54.487979Z"
    }
   },
   "outputs": [
    {
     "ename": "TypeError",
     "evalue": "'tensorflow.python.framework.ops.EagerTensor' object does not support item assignment",
     "output_type": "error",
     "traceback": [
      "\u001b[1;31m---------------------------------------------------------------------------\u001b[0m",
      "\u001b[1;31mTypeError\u001b[0m                                 Traceback (most recent call last)",
      "\u001b[1;32m<ipython-input-11-73b16c358f38>\u001b[0m in \u001b[0;36m<module>\u001b[1;34m\u001b[0m\n\u001b[1;32m----> 1\u001b[1;33m \u001b[0mvr_ten\u001b[0m\u001b[1;33m[\u001b[0m\u001b[1;36m0\u001b[0m\u001b[1;33m]\u001b[0m\u001b[1;33m[\u001b[0m\u001b[1;36m0\u001b[0m\u001b[1;33m]\u001b[0m\u001b[1;33m[\u001b[0m\u001b[1;36m0\u001b[0m\u001b[1;33m]\u001b[0m \u001b[1;33m=\u001b[0m \u001b[1;36m4\u001b[0m\u001b[1;33m\u001b[0m\u001b[1;33m\u001b[0m\u001b[0m\n\u001b[0m",
      "\u001b[1;31mTypeError\u001b[0m: 'tensorflow.python.framework.ops.EagerTensor' object does not support item assignment"
     ]
    }
   ],
   "source": [
    "vr_ten[0][0][0] = 4"
   ]
  },
  {
   "cell_type": "code",
   "execution_count": 12,
   "id": "b3dabfad",
   "metadata": {
    "ExecuteTime": {
     "end_time": "2021-05-24T06:08:54.791642Z",
     "start_time": "2021-05-24T06:08:54.783662Z"
    }
   },
   "outputs": [
    {
     "data": {
      "text/plain": [
       "<tf.Tensor: shape=(), dtype=int32, numpy=1>"
      ]
     },
     "execution_count": 12,
     "metadata": {},
     "output_type": "execute_result"
    }
   ],
   "source": [
    "vr_ten[0][0][0]"
   ]
  },
  {
   "cell_type": "code",
   "execution_count": 13,
   "id": "aed5cb68",
   "metadata": {
    "ExecuteTime": {
     "end_time": "2021-05-24T06:08:55.152091Z",
     "start_time": "2021-05-24T06:08:55.144109Z"
    }
   },
   "outputs": [
    {
     "data": {
      "text/plain": [
       "<tf.Tensor: shape=(2, 3), dtype=int32, numpy=\n",
       "array([[1, 3, 4],\n",
       "       [2, 4, 5]])>"
      ]
     },
     "execution_count": 13,
     "metadata": {},
     "output_type": "execute_result"
    }
   ],
   "source": [
    "vr_ten[0]"
   ]
  },
  {
   "cell_type": "code",
   "execution_count": 14,
   "id": "a19a6b2d",
   "metadata": {
    "ExecuteTime": {
     "end_time": "2021-05-24T06:08:55.557227Z",
     "start_time": "2021-05-24T06:08:55.536283Z"
    }
   },
   "outputs": [
    {
     "data": {
      "text/plain": [
       "<tf.Variable 'Variable:0' shape=(3, 2, 3) dtype=int32, numpy=\n",
       "array([[[1, 2, 3],\n",
       "        [2, 3, 4]],\n",
       "\n",
       "       [[3, 4, 5],\n",
       "        [7, 6, 5]],\n",
       "\n",
       "       [[3, 2, 1],\n",
       "        [0, 9, 8]]])>"
      ]
     },
     "execution_count": 14,
     "metadata": {},
     "output_type": "execute_result"
    }
   ],
   "source": [
    "vr_ten.assign([[[1, 2, 3],\n",
    "                [2, 3, 4]],\n",
    "               [[3, 4, 5],\n",
    "                [7, 6, 5]],\n",
    "               [[3, 2, 1],\n",
    "                [0, 9, 8]]])\n",
    "\n",
    "vr_ten"
   ]
  },
  {
   "cell_type": "code",
   "execution_count": 15,
   "id": "51087b01",
   "metadata": {
    "ExecuteTime": {
     "end_time": "2021-05-24T06:08:55.820099Z",
     "start_time": "2021-05-24T06:08:55.792175Z"
    }
   },
   "outputs": [
    {
     "data": {
      "text/plain": [
       "<tf.Tensor: shape=(3, 2), dtype=float32, numpy=\n",
       "array([[-0.7565803 , -0.06854702],\n",
       "       [ 0.07595026, -1.2573844 ],\n",
       "       [-0.23193763, -1.8107855 ]], dtype=float32)>"
      ]
     },
     "execution_count": 15,
     "metadata": {},
     "output_type": "execute_result"
    }
   ],
   "source": [
    "random_1 = tf.random.Generator.from_seed(42)\n",
    "random_1 = random_1.normal(shape=(3,2))\n",
    "\n",
    "random_1"
   ]
  },
  {
   "cell_type": "code",
   "execution_count": 16,
   "id": "1a52ad69",
   "metadata": {
    "ExecuteTime": {
     "end_time": "2021-05-24T06:08:56.085315Z",
     "start_time": "2021-05-24T06:08:56.073380Z"
    }
   },
   "outputs": [
    {
     "data": {
      "text/plain": [
       "<tf.Tensor: shape=(3, 2), dtype=float32, numpy=\n",
       "array([[-0.7565803 , -0.06854702],\n",
       "       [ 0.07595026, -1.2573844 ],\n",
       "       [-0.23193763, -1.8107855 ]], dtype=float32)>"
      ]
     },
     "execution_count": 16,
     "metadata": {},
     "output_type": "execute_result"
    }
   ],
   "source": [
    "random_2 = tf.random.Generator.from_seed(42)\n",
    "random_2 = random_2.normal(shape=(3, 2))\n",
    "random_2"
   ]
  },
  {
   "cell_type": "code",
   "execution_count": 17,
   "id": "9a930459",
   "metadata": {
    "ExecuteTime": {
     "end_time": "2021-05-24T06:08:56.426328Z",
     "start_time": "2021-05-24T06:08:56.416352Z"
    }
   },
   "outputs": [],
   "source": [
    "random_1 = tf.random.shuffle(random_1, seed=34)"
   ]
  },
  {
   "cell_type": "code",
   "execution_count": 18,
   "id": "bb48ff5c",
   "metadata": {
    "ExecuteTime": {
     "end_time": "2021-05-24T06:08:56.691453Z",
     "start_time": "2021-05-24T06:08:56.672465Z"
    }
   },
   "outputs": [
    {
     "data": {
      "text/plain": [
       "<tf.Tensor: shape=(3, 2), dtype=float32, numpy=\n",
       "array([[-0.23193763, -1.8107855 ],\n",
       "       [-0.7565803 , -0.06854702],\n",
       "       [ 0.07595026, -1.2573844 ]], dtype=float32)>"
      ]
     },
     "execution_count": 18,
     "metadata": {},
     "output_type": "execute_result"
    }
   ],
   "source": [
    "random_1"
   ]
  },
  {
   "cell_type": "code",
   "execution_count": 19,
   "id": "2091bbb9",
   "metadata": {
    "ExecuteTime": {
     "end_time": "2021-05-24T06:08:56.890923Z",
     "start_time": "2021-05-24T06:08:56.878955Z"
    }
   },
   "outputs": [
    {
     "data": {
      "text/plain": [
       "<tf.Tensor: shape=(3, 2), dtype=float32, numpy=\n",
       "array([[-0.23193763, -1.8107855 ],\n",
       "       [-0.7565803 , -0.06854702],\n",
       "       [ 0.07595026, -1.2573844 ]], dtype=float32)>"
      ]
     },
     "execution_count": 19,
     "metadata": {},
     "output_type": "execute_result"
    }
   ],
   "source": [
    "tf.random.set_seed(42)  # global level seed set\n",
    "tf.random.shuffle(random_1, seed=42) # operational level seed set"
   ]
  },
  {
   "cell_type": "markdown",
   "id": "a80fde7f",
   "metadata": {},
   "source": [
    "# Other way to make Tensor"
   ]
  },
  {
   "cell_type": "code",
   "execution_count": 20,
   "id": "5f583cd0",
   "metadata": {
    "ExecuteTime": {
     "end_time": "2021-05-24T06:08:57.219224Z",
     "start_time": "2021-05-24T06:08:57.200230Z"
    }
   },
   "outputs": [
    {
     "data": {
      "text/plain": [
       "<tf.Tensor: shape=(3, 7), dtype=float32, numpy=\n",
       "array([[1., 1., 1., 1., 1., 1., 1.],\n",
       "       [1., 1., 1., 1., 1., 1., 1.],\n",
       "       [1., 1., 1., 1., 1., 1., 1.]], dtype=float32)>"
      ]
     },
     "execution_count": 20,
     "metadata": {},
     "output_type": "execute_result"
    }
   ],
   "source": [
    "# create tensor with all ones\n",
    "tf.ones([3, 7]) # or we can use tf.ones(shape=(3, 7))"
   ]
  },
  {
   "cell_type": "code",
   "execution_count": 21,
   "id": "f7f3b93f",
   "metadata": {
    "ExecuteTime": {
     "end_time": "2021-05-24T06:08:57.388724Z",
     "start_time": "2021-05-24T06:08:57.375763Z"
    }
   },
   "outputs": [
    {
     "data": {
      "text/plain": [
       "<tf.Tensor: shape=(3, 7), dtype=float32, numpy=\n",
       "array([[0., 0., 0., 0., 0., 0., 0.],\n",
       "       [0., 0., 0., 0., 0., 0., 0.],\n",
       "       [0., 0., 0., 0., 0., 0., 0.]], dtype=float32)>"
      ]
     },
     "execution_count": 21,
     "metadata": {},
     "output_type": "execute_result"
    }
   ],
   "source": [
    "# create tensor with all zeros\n",
    "tf.zeros([3, 7]) # or we can use tf.ones(shape=(3, 7))"
   ]
  },
  {
   "cell_type": "code",
   "execution_count": 22,
   "id": "9c5857e7",
   "metadata": {
    "ExecuteTime": {
     "end_time": "2021-05-24T06:08:57.544489Z",
     "start_time": "2021-05-24T06:08:57.526539Z"
    }
   },
   "outputs": [
    {
     "data": {
      "text/plain": [
       "(<tf.Tensor: shape=(3, 7), dtype=float32, numpy=\n",
       " array([[1., 1., 1., 1., 1., 1., 1.],\n",
       "        [1., 1., 1., 1., 1., 1., 1.],\n",
       "        [1., 1., 1., 1., 1., 1., 1.]], dtype=float32)>,\n",
       " <tf.Tensor: shape=(3, 7), dtype=float32, numpy=\n",
       " array([[0., 0., 0., 0., 0., 0., 0.],\n",
       "        [0., 0., 0., 0., 0., 0., 0.],\n",
       "        [0., 0., 0., 0., 0., 0., 0.]], dtype=float32)>)"
      ]
     },
     "execution_count": 22,
     "metadata": {},
     "output_type": "execute_result"
    }
   ],
   "source": [
    "tf.ones(shape=(3, 7)), tf.zeros(shape=(3, 7))"
   ]
  },
  {
   "cell_type": "markdown",
   "id": "d22bc19c",
   "metadata": {},
   "source": [
    "### Turn Numpy array into tensors\n",
    "\n",
    "The main differencee between numpy arrays and TensorFlow tensor is that tensors can be run on a GPU (much faster for numerical computing)."
   ]
  },
  {
   "cell_type": "code",
   "execution_count": 23,
   "id": "a670e41c",
   "metadata": {
    "ExecuteTime": {
     "end_time": "2021-05-24T06:08:57.949840Z",
     "start_time": "2021-05-24T06:08:57.927896Z"
    }
   },
   "outputs": [
    {
     "data": {
      "text/plain": [
       "array([ 1,  2,  3,  4,  5,  6,  7,  8,  9, 10, 11, 12, 13, 14, 15, 16, 17,\n",
       "       18, 19, 20, 21, 22, 23, 24])"
      ]
     },
     "execution_count": 23,
     "metadata": {},
     "output_type": "execute_result"
    }
   ],
   "source": [
    "# you can also turn NumPy array into tensors\n",
    "import numpy as np\n",
    "\n",
    "numpy_a = np.arange(1, 25, dtype=np.int32) # create a numpy array between 1 and 25\n",
    "numpy_a\n",
    "\n",
    "# x = tf.constant(some_matrix) # capital for matrix or tensor\n",
    "# y = tf.constant(vector) # non-capital for vector"
   ]
  },
  {
   "cell_type": "code",
   "execution_count": 24,
   "id": "4d0ec07b",
   "metadata": {
    "ExecuteTime": {
     "end_time": "2021-05-24T06:08:58.181886Z",
     "start_time": "2021-05-24T06:08:58.159911Z"
    }
   },
   "outputs": [
    {
     "data": {
      "text/plain": [
       "<tf.Tensor: shape=(24,), dtype=int32, numpy=\n",
       "array([ 1,  2,  3,  4,  5,  6,  7,  8,  9, 10, 11, 12, 13, 14, 15, 16, 17,\n",
       "       18, 19, 20, 21, 22, 23, 24])>"
      ]
     },
     "execution_count": 24,
     "metadata": {},
     "output_type": "execute_result"
    }
   ],
   "source": [
    "a = tf.constant(numpy_a)\n",
    "a"
   ]
  },
  {
   "cell_type": "code",
   "execution_count": 25,
   "id": "d2bfc13f",
   "metadata": {
    "ExecuteTime": {
     "end_time": "2021-05-24T06:08:58.431205Z",
     "start_time": "2021-05-24T06:08:58.416245Z"
    }
   },
   "outputs": [
    {
     "data": {
      "text/plain": [
       "<tf.Tensor: shape=(2, 3, 4), dtype=int32, numpy=\n",
       "array([[[ 1,  2,  3,  4],\n",
       "        [ 5,  6,  7,  8],\n",
       "        [ 9, 10, 11, 12]],\n",
       "\n",
       "       [[13, 14, 15, 16],\n",
       "        [17, 18, 19, 20],\n",
       "        [21, 22, 23, 24]]])>"
      ]
     },
     "execution_count": 25,
     "metadata": {},
     "output_type": "execute_result"
    }
   ],
   "source": [
    "a = tf.constant(numpy_a, shape=(2, 3, 4))\n",
    "a"
   ]
  },
  {
   "cell_type": "code",
   "execution_count": 27,
   "id": "57d96008",
   "metadata": {
    "ExecuteTime": {
     "end_time": "2021-05-24T06:10:40.962791Z",
     "start_time": "2021-05-24T06:10:40.955798Z"
    }
   },
   "outputs": [
    {
     "data": {
      "text/plain": [
       "3"
      ]
     },
     "execution_count": 27,
     "metadata": {},
     "output_type": "execute_result"
    }
   ],
   "source": [
    "a.ndim"
   ]
  },
  {
   "cell_type": "markdown",
   "id": "0531c53f",
   "metadata": {},
   "source": [
    "### Getting information from tensor \n",
    "\n",
    "When dealing with tensors you probably want to be aware of the following attributes:\n",
    "\n",
    "* Shape\n",
    "* Rank\n",
    "* Axis or Dimension\n",
    "* Size"
   ]
  },
  {
   "cell_type": "code",
   "execution_count": 28,
   "id": "4b39eab1",
   "metadata": {
    "ExecuteTime": {
     "end_time": "2021-05-24T06:29:30.870448Z",
     "start_time": "2021-05-24T06:29:30.858482Z"
    }
   },
   "outputs": [
    {
     "data": {
      "text/plain": [
       "<tf.Tensor: shape=(2, 3, 4, 5), dtype=float32, numpy=\n",
       "array([[[[0., 0., 0., 0., 0.],\n",
       "         [0., 0., 0., 0., 0.],\n",
       "         [0., 0., 0., 0., 0.],\n",
       "         [0., 0., 0., 0., 0.]],\n",
       "\n",
       "        [[0., 0., 0., 0., 0.],\n",
       "         [0., 0., 0., 0., 0.],\n",
       "         [0., 0., 0., 0., 0.],\n",
       "         [0., 0., 0., 0., 0.]],\n",
       "\n",
       "        [[0., 0., 0., 0., 0.],\n",
       "         [0., 0., 0., 0., 0.],\n",
       "         [0., 0., 0., 0., 0.],\n",
       "         [0., 0., 0., 0., 0.]]],\n",
       "\n",
       "\n",
       "       [[[0., 0., 0., 0., 0.],\n",
       "         [0., 0., 0., 0., 0.],\n",
       "         [0., 0., 0., 0., 0.],\n",
       "         [0., 0., 0., 0., 0.]],\n",
       "\n",
       "        [[0., 0., 0., 0., 0.],\n",
       "         [0., 0., 0., 0., 0.],\n",
       "         [0., 0., 0., 0., 0.],\n",
       "         [0., 0., 0., 0., 0.]],\n",
       "\n",
       "        [[0., 0., 0., 0., 0.],\n",
       "         [0., 0., 0., 0., 0.],\n",
       "         [0., 0., 0., 0., 0.],\n",
       "         [0., 0., 0., 0., 0.]]]], dtype=float32)>"
      ]
     },
     "execution_count": 28,
     "metadata": {},
     "output_type": "execute_result"
    }
   ],
   "source": [
    "# Create a rank 4 tensors (4 dimensions)\n",
    "rank_4_tensor = tf.zeros(shape=[2, 3, 4, 5])\n",
    "rank_4_tensor"
   ]
  },
  {
   "cell_type": "code",
   "execution_count": 34,
   "id": "4cad304c",
   "metadata": {
    "ExecuteTime": {
     "end_time": "2021-05-24T06:32:50.967495Z",
     "start_time": "2021-05-24T06:32:50.957016Z"
    }
   },
   "outputs": [
    {
     "data": {
      "text/plain": [
       "(4, TensorShape([2, 3, 4, 5]), <tf.Tensor: shape=(), dtype=int32, numpy=120>)"
      ]
     },
     "execution_count": 34,
     "metadata": {},
     "output_type": "execute_result"
    }
   ],
   "source": [
    "rank_4_tensor.ndim, rank_4_tensor.shape, tf.size(rank_4_tensor)"
   ]
  },
  {
   "cell_type": "code",
   "execution_count": 35,
   "id": "5b8fa9a0",
   "metadata": {
    "ExecuteTime": {
     "end_time": "2021-05-24T06:34:09.413679Z",
     "start_time": "2021-05-24T06:34:09.401619Z"
    },
    "code_folding": []
   },
   "outputs": [
    {
     "data": {
      "text/plain": [
       "120"
      ]
     },
     "execution_count": 35,
     "metadata": {},
     "output_type": "execute_result"
    }
   ],
   "source": [
    "2 * 3 * 4 * 5"
   ]
  },
  {
   "cell_type": "code",
   "execution_count": 44,
   "id": "1d81f32f",
   "metadata": {
    "ExecuteTime": {
     "end_time": "2021-05-24T06:43:55.270344Z",
     "start_time": "2021-05-24T06:43:55.247445Z"
    }
   },
   "outputs": [
    {
     "name": "stdout",
     "output_type": "stream",
     "text": [
      "Datatypes of every element\t\t: <dtype: 'float32'>\n",
      "Number of dimensions (rank)\t\t: 4\n",
      "Shape of tensor\t\t\t\t: (2, 3, 4, 5)\n",
      "Elements along the 0 axis\t\t: 2\n",
      "Elements along the last axis\t\t: 5\n",
      "Total number of elements in our tensor\t: tf.Tensor(120, shape=(), dtype=int32)\n",
      "Total number of elements in our tensor\t: 120\n"
     ]
    }
   ],
   "source": [
    "# Get Various attribute of our tensor\n",
    "print('Datatypes of every element\\t\\t:', rank_4_tensor.dtype)\n",
    "print('Number of dimensions (rank)\\t\\t:', rank_4_tensor.ndim)\n",
    "print('Shape of tensor\\t\\t\\t\\t:', rank_4_tensor.shape)\n",
    "print('Elements along the 0 axis\\t\\t:', rank_4_tensor.shape[0])\n",
    "print('Elements along the last axis\\t\\t:', rank_4_tensor.shape[-1])\n",
    "print('Total number of elements in our tensor\\t:', tf.size(rank_4_tensor))\n",
    "print('Total number of elements in our tensor\\t:', tf.size(rank_4_tensor).numpy())"
   ]
  },
  {
   "cell_type": "markdown",
   "id": "1b1b835d",
   "metadata": {},
   "source": [
    "### Indexing Tensor\n",
    "\n",
    "Tensor can be Indexing just Python lists."
   ]
  },
  {
   "cell_type": "code",
   "execution_count": 46,
   "id": "e0ad3101",
   "metadata": {
    "ExecuteTime": {
     "end_time": "2021-05-24T06:49:32.951077Z",
     "start_time": "2021-05-24T06:49:32.939109Z"
    }
   },
   "outputs": [
    {
     "data": {
      "text/plain": [
       "[1, 2]"
      ]
     },
     "execution_count": 46,
     "metadata": {},
     "output_type": "execute_result"
    }
   ],
   "source": [
    "some_list = [1, 2, 3, 4]\n",
    "some_list[:2]"
   ]
  },
  {
   "cell_type": "code",
   "execution_count": 48,
   "id": "ad2481d0",
   "metadata": {
    "ExecuteTime": {
     "end_time": "2021-05-24T06:49:56.807895Z",
     "start_time": "2021-05-24T06:49:56.793930Z"
    },
    "code_folding": []
   },
   "outputs": [
    {
     "data": {
      "text/plain": [
       "<tf.Tensor: shape=(2, 2, 2, 2), dtype=float32, numpy=\n",
       "array([[[[0., 0.],\n",
       "         [0., 0.]],\n",
       "\n",
       "        [[0., 0.],\n",
       "         [0., 0.]]],\n",
       "\n",
       "\n",
       "       [[[0., 0.],\n",
       "         [0., 0.]],\n",
       "\n",
       "        [[0., 0.],\n",
       "         [0., 0.]]]], dtype=float32)>"
      ]
     },
     "execution_count": 48,
     "metadata": {},
     "output_type": "execute_result"
    }
   ],
   "source": [
    "# get the first 2 elements of each dimension\n",
    "rank_4_tensor[:2, :2, :2, :2]"
   ]
  },
  {
   "cell_type": "code",
   "execution_count": 53,
   "id": "5f42ffb5",
   "metadata": {
    "ExecuteTime": {
     "end_time": "2021-05-24T06:54:58.606120Z",
     "start_time": "2021-05-24T06:54:58.587172Z"
    }
   },
   "outputs": [
    {
     "data": {
      "text/plain": [
       "<tf.Tensor: shape=(1, 3, 1, 1), dtype=float32, numpy=\n",
       "array([[[[0.]],\n",
       "\n",
       "        [[0.]],\n",
       "\n",
       "        [[0.]]]], dtype=float32)>"
      ]
     },
     "execution_count": 53,
     "metadata": {},
     "output_type": "execute_result"
    }
   ],
   "source": [
    "# Get the first elememt from each dimension from each labels except for the final one\n",
    "rank_4_tensor[:1, :, :1, :1]"
   ]
  },
  {
   "cell_type": "code",
   "execution_count": 54,
   "id": "00e2491c",
   "metadata": {
    "ExecuteTime": {
     "end_time": "2021-05-24T08:11:19.825858Z",
     "start_time": "2021-05-24T08:11:19.797927Z"
    }
   },
   "outputs": [
    {
     "data": {
      "text/plain": [
       "<tf.Tensor: shape=(2, 2), dtype=int32, numpy=\n",
       "array([[10,  7],\n",
       "       [ 3,  4]])>"
      ]
     },
     "execution_count": 54,
     "metadata": {},
     "output_type": "execute_result"
    }
   ],
   "source": [
    "# Create a rank 2 tensor (2 dimensions)\n",
    "rank_2_tensor = tf.constant([[10, 7],\n",
    "                             [3, 4]])\n",
    "rank_2_tensor"
   ]
  },
  {
   "cell_type": "code",
   "execution_count": 56,
   "id": "f67401ae",
   "metadata": {
    "ExecuteTime": {
     "end_time": "2021-05-24T08:18:13.808819Z",
     "start_time": "2021-05-24T08:18:13.790828Z"
    }
   },
   "outputs": [
    {
     "data": {
      "text/plain": [
       "(TensorShape([2, 2]), 2, <tf.Tensor: shape=(), dtype=int32, numpy=4>, 4)"
      ]
     },
     "execution_count": 56,
     "metadata": {},
     "output_type": "execute_result"
    }
   ],
   "source": [
    "rank_2_tensor.shape, rank_2_tensor.ndim, tf.size(rank_2_tensor), tf.size(rank_2_tensor).numpy()"
   ]
  },
  {
   "cell_type": "code",
   "execution_count": 57,
   "id": "3bb7ac24",
   "metadata": {
    "ExecuteTime": {
     "end_time": "2021-05-24T08:32:17.136739Z",
     "start_time": "2021-05-24T08:32:17.120739Z"
    }
   },
   "outputs": [
    {
     "data": {
      "text/plain": [
       "([1, 2, 3, 4], 4)"
      ]
     },
     "execution_count": 57,
     "metadata": {},
     "output_type": "execute_result"
    }
   ],
   "source": [
    "some_list, some_list[-1]"
   ]
  },
  {
   "cell_type": "code",
   "execution_count": 58,
   "id": "a0c0fead",
   "metadata": {
    "ExecuteTime": {
     "end_time": "2021-05-24T08:34:05.551141Z",
     "start_time": "2021-05-24T08:34:05.529165Z"
    }
   },
   "outputs": [
    {
     "data": {
      "text/plain": [
       "<tf.Tensor: shape=(2,), dtype=int32, numpy=array([7, 4])>"
      ]
     },
     "execution_count": 58,
     "metadata": {},
     "output_type": "execute_result"
    }
   ],
   "source": [
    "# Get the last item of our rank 2 tensor\n",
    "rank_2_tensor[:, -1]"
   ]
  },
  {
   "cell_type": "code",
   "execution_count": 59,
   "id": "c2ee3a63",
   "metadata": {
    "ExecuteTime": {
     "end_time": "2021-05-24T08:36:14.778949Z",
     "start_time": "2021-05-24T08:36:14.755976Z"
    },
    "code_folding": []
   },
   "outputs": [
    {
     "data": {
      "text/plain": [
       "<tf.Tensor: shape=(2, 2, 1), dtype=int32, numpy=\n",
       "array([[[10],\n",
       "        [ 7]],\n",
       "\n",
       "       [[ 3],\n",
       "        [ 4]]])>"
      ]
     },
     "execution_count": 59,
     "metadata": {},
     "output_type": "execute_result"
    }
   ],
   "source": [
    "# Add in extra diemension to our rank 2 tensor\n",
    "rank_3_tensor = rank_2_tensor[..., tf.newaxis] # also use `rank_2_tensor[:, :, tf.newaxis]` insted of \"...\"\n",
    "rank_3_tensor"
   ]
  },
  {
   "cell_type": "code",
   "execution_count": 60,
   "id": "9bc5d8e8",
   "metadata": {
    "ExecuteTime": {
     "end_time": "2021-05-24T09:00:42.952326Z",
     "start_time": "2021-05-24T09:00:42.937367Z"
    }
   },
   "outputs": [
    {
     "data": {
      "text/plain": [
       "<tf.Tensor: shape=(2, 2, 1), dtype=int32, numpy=\n",
       "array([[[10],\n",
       "        [ 7]],\n",
       "\n",
       "       [[ 3],\n",
       "        [ 4]]])>"
      ]
     },
     "execution_count": 60,
     "metadata": {},
     "output_type": "execute_result"
    }
   ],
   "source": [
    "# Alternative to tf.newaxis\n",
    "tf.expand_dims(rank_2_tensor, axis=-1) # \"-1\" means expand the final axis"
   ]
  },
  {
   "cell_type": "code",
   "execution_count": 62,
   "id": "927c2fc7",
   "metadata": {
    "ExecuteTime": {
     "end_time": "2021-05-24T09:01:57.460836Z",
     "start_time": "2021-05-24T09:01:57.443788Z"
    }
   },
   "outputs": [
    {
     "data": {
      "text/plain": [
       "<tf.Tensor: shape=(2, 1, 2), dtype=int32, numpy=\n",
       "array([[[10,  7]],\n",
       "\n",
       "       [[ 3,  4]]])>"
      ]
     },
     "execution_count": 62,
     "metadata": {},
     "output_type": "execute_result"
    }
   ],
   "source": [
    "tf.expand_dims(rank_2_tensor, axis=1)"
   ]
  },
  {
   "cell_type": "markdown",
   "id": "c0ce67af",
   "metadata": {},
   "source": [
    "### Manipulating tensors (tensor operations)\n",
    "\n",
    "**Basic Operation**\n",
    "\n",
    "`+`, `-`, `*`, `/`"
   ]
  },
  {
   "cell_type": "code",
   "execution_count": 2,
   "id": "8ed31f97",
   "metadata": {
    "ExecuteTime": {
     "end_time": "2021-05-24T14:58:56.771835Z",
     "start_time": "2021-05-24T14:58:54.494572Z"
    }
   },
   "outputs": [
    {
     "data": {
      "text/plain": [
       "<tf.Tensor: shape=(2, 2), dtype=int32, numpy=\n",
       "array([[20, 17],\n",
       "       [13, 14]])>"
      ]
     },
     "execution_count": 2,
     "metadata": {},
     "output_type": "execute_result"
    }
   ],
   "source": [
    "# you can add values to a tensor using the addition operation\n",
    "tensor = tf.constant([[10, 7], \n",
    "                      [3, 4]])\n",
    "tensor + 10"
   ]
  },
  {
   "cell_type": "code",
   "execution_count": 69,
   "id": "450f6442",
   "metadata": {
    "ExecuteTime": {
     "end_time": "2021-05-24T09:44:30.435749Z",
     "start_time": "2021-05-24T09:44:30.421071Z"
    }
   },
   "outputs": [
    {
     "data": {
      "text/plain": [
       "<tf.Tensor: shape=(2, 2), dtype=int32, numpy=\n",
       "array([[10,  7],\n",
       "       [ 3,  4]])>"
      ]
     },
     "execution_count": 69,
     "metadata": {},
     "output_type": "execute_result"
    }
   ],
   "source": [
    "# original tensor is unchanged\n",
    "tensor"
   ]
  },
  {
   "cell_type": "code",
   "execution_count": 66,
   "id": "a781979f",
   "metadata": {
    "ExecuteTime": {
     "end_time": "2021-05-24T09:42:58.681925Z",
     "start_time": "2021-05-24T09:42:58.652964Z"
    }
   },
   "outputs": [
    {
     "data": {
      "text/plain": [
       "<tf.Tensor: shape=(2, 2), dtype=int32, numpy=\n",
       "array([[7, 4],\n",
       "       [0, 1]])>"
      ]
     },
     "execution_count": 66,
     "metadata": {},
     "output_type": "execute_result"
    }
   ],
   "source": [
    "# subtraction\n",
    "tensor - 3"
   ]
  },
  {
   "cell_type": "code",
   "execution_count": 67,
   "id": "236c94cd",
   "metadata": {
    "ExecuteTime": {
     "end_time": "2021-05-24T09:43:25.245889Z",
     "start_time": "2021-05-24T09:43:25.221912Z"
    }
   },
   "outputs": [
    {
     "data": {
      "text/plain": [
       "<tf.Tensor: shape=(2, 2), dtype=int32, numpy=\n",
       "array([[20, 14],\n",
       "       [ 6,  8]])>"
      ]
     },
     "execution_count": 67,
     "metadata": {},
     "output_type": "execute_result"
    }
   ],
   "source": [
    "# multification\n",
    "tensor * 2"
   ]
  },
  {
   "cell_type": "code",
   "execution_count": 68,
   "id": "4f412be0",
   "metadata": {
    "ExecuteTime": {
     "end_time": "2021-05-24T09:43:40.997459Z",
     "start_time": "2021-05-24T09:43:40.965544Z"
    }
   },
   "outputs": [
    {
     "data": {
      "text/plain": [
       "<tf.Tensor: shape=(2, 2), dtype=float64, numpy=\n",
       "array([[5. , 3.5],\n",
       "       [1.5, 2. ]])>"
      ]
     },
     "execution_count": 68,
     "metadata": {},
     "output_type": "execute_result"
    }
   ],
   "source": [
    "# division\n",
    "tensor / 2"
   ]
  },
  {
   "cell_type": "code",
   "execution_count": 70,
   "id": "cc76219e",
   "metadata": {
    "ExecuteTime": {
     "end_time": "2021-05-24T09:46:47.977390Z",
     "start_time": "2021-05-24T09:46:47.965424Z"
    }
   },
   "outputs": [
    {
     "data": {
      "text/plain": [
       "<tf.Tensor: shape=(2, 2), dtype=int32, numpy=\n",
       "array([[100,  70],\n",
       "       [ 30,  40]])>"
      ]
     },
     "execution_count": 70,
     "metadata": {},
     "output_type": "execute_result"
    }
   ],
   "source": [
    "# we can use the tensorflow built-in function too\n",
    "tf.multiply(tensor, 10)"
   ]
  },
  {
   "cell_type": "code",
   "execution_count": 71,
   "id": "3a108cfa",
   "metadata": {
    "ExecuteTime": {
     "end_time": "2021-05-24T09:47:12.408664Z",
     "start_time": "2021-05-24T09:47:12.382734Z"
    }
   },
   "outputs": [
    {
     "data": {
      "text/plain": [
       "<tf.Tensor: shape=(2, 2), dtype=int32, numpy=\n",
       "array([[20, 17],\n",
       "       [13, 14]])>"
      ]
     },
     "execution_count": 71,
     "metadata": {},
     "output_type": "execute_result"
    }
   ],
   "source": [
    "tf.add(tensor, 10)"
   ]
  },
  {
   "cell_type": "code",
   "execution_count": 72,
   "id": "f56beb1d",
   "metadata": {
    "ExecuteTime": {
     "end_time": "2021-05-24T09:47:32.531611Z",
     "start_time": "2021-05-24T09:47:32.517648Z"
    }
   },
   "outputs": [
    {
     "data": {
      "text/plain": [
       "<tf.Tensor: shape=(2, 2), dtype=int32, numpy=\n",
       "array([[7, 4],\n",
       "       [0, 1]])>"
      ]
     },
     "execution_count": 72,
     "metadata": {},
     "output_type": "execute_result"
    }
   ],
   "source": [
    "tf.subtract(tensor, 3)"
   ]
  },
  {
   "cell_type": "code",
   "execution_count": 73,
   "id": "e5d85e5f",
   "metadata": {
    "ExecuteTime": {
     "end_time": "2021-05-24T09:47:51.046101Z",
     "start_time": "2021-05-24T09:47:51.021110Z"
    }
   },
   "outputs": [
    {
     "data": {
      "text/plain": [
       "<tf.Tensor: shape=(2, 2), dtype=float64, numpy=\n",
       "array([[2.5 , 1.75],\n",
       "       [0.75, 1.  ]])>"
      ]
     },
     "execution_count": 73,
     "metadata": {},
     "output_type": "execute_result"
    }
   ],
   "source": [
    "tf.divide(tensor, 4)"
   ]
  },
  {
   "cell_type": "code",
   "execution_count": 74,
   "id": "8a529bb8",
   "metadata": {
    "ExecuteTime": {
     "end_time": "2021-05-24T09:50:00.918756Z",
     "start_time": "2021-05-24T09:50:00.901801Z"
    }
   },
   "outputs": [
    {
     "data": {
      "text/plain": [
       "<tf.Tensor: shape=(2, 2), dtype=int32, numpy=\n",
       "array([[30, 21],\n",
       "       [ 9, 12]])>"
      ]
     },
     "execution_count": 74,
     "metadata": {},
     "output_type": "execute_result"
    }
   ],
   "source": [
    "# another way to basic operation\n",
    "tf.math.multiply(tensor, 3)"
   ]
  },
  {
   "cell_type": "code",
   "execution_count": 75,
   "id": "b367029a",
   "metadata": {
    "ExecuteTime": {
     "end_time": "2021-05-24T09:50:40.508903Z",
     "start_time": "2021-05-24T09:50:40.493281Z"
    }
   },
   "outputs": [
    {
     "data": {
      "text/plain": [
       "<tf.Tensor: shape=(2, 2), dtype=int32, numpy=\n",
       "array([[15, 12],\n",
       "       [ 8,  9]])>"
      ]
     },
     "execution_count": 75,
     "metadata": {},
     "output_type": "execute_result"
    }
   ],
   "source": [
    "tf.math.add(tensor, 5)"
   ]
  },
  {
   "cell_type": "code",
   "execution_count": 76,
   "id": "e48d02ea",
   "metadata": {
    "ExecuteTime": {
     "end_time": "2021-05-24T09:53:34.697147Z",
     "start_time": "2021-05-24T09:53:34.678665Z"
    }
   },
   "outputs": [
    {
     "data": {
      "text/plain": [
       "<tf.Tensor: shape=(2, 2), dtype=int32, numpy=\n",
       "array([[8, 5],\n",
       "       [1, 2]])>"
      ]
     },
     "execution_count": 76,
     "metadata": {},
     "output_type": "execute_result"
    }
   ],
   "source": [
    "tf.math.subtract(tensor, 2)"
   ]
  },
  {
   "cell_type": "code",
   "execution_count": 80,
   "id": "4c23fbf7",
   "metadata": {
    "ExecuteTime": {
     "end_time": "2021-05-24T09:54:51.218945Z",
     "start_time": "2021-05-24T09:54:51.198001Z"
    }
   },
   "outputs": [
    {
     "data": {
      "text/plain": [
       "<tf.Tensor: shape=(2, 2), dtype=float64, numpy=\n",
       "array([[3.33333333, 2.33333333],\n",
       "       [1.        , 1.33333333]])>"
      ]
     },
     "execution_count": 80,
     "metadata": {},
     "output_type": "execute_result"
    }
   ],
   "source": [
    "tf.math.divide(tensor, 3)"
   ]
  },
  {
   "cell_type": "markdown",
   "id": "6454584c",
   "metadata": {},
   "source": [
    "**Matrix Multiplication**\n",
    "\n",
    "In machine learning, metrics multiplication is one of the most common tensor operations.\n",
    "\n",
    "please visit this website before do programming: http://matrixmultiplication.xyz/"
   ]
  },
  {
   "cell_type": "code",
   "execution_count": 4,
   "id": "b0a567bb",
   "metadata": {
    "ExecuteTime": {
     "end_time": "2021-05-24T15:00:17.775731Z",
     "start_time": "2021-05-24T15:00:17.745811Z"
    },
    "code_folding": []
   },
   "outputs": [
    {
     "name": "stdout",
     "output_type": "stream",
     "text": [
      "tf.Tensor(\n",
      "[[10  7]\n",
      " [ 3  4]], shape=(2, 2), dtype=int32)\n"
     ]
    },
    {
     "data": {
      "text/plain": [
       "<tf.Tensor: shape=(2, 2), dtype=int32, numpy=\n",
       "array([[121,  98],\n",
       "       [ 42,  37]])>"
      ]
     },
     "execution_count": 4,
     "metadata": {},
     "output_type": "execute_result"
    }
   ],
   "source": [
    "# Metrix Multiplication in tensorflow\n",
    "print(tensor)\n",
    "tf.matmul(tensor, tensor)"
   ]
  },
  {
   "cell_type": "code",
   "execution_count": 5,
   "id": "b9d6f562",
   "metadata": {
    "ExecuteTime": {
     "end_time": "2021-05-24T15:02:41.535438Z",
     "start_time": "2021-05-24T15:02:41.520375Z"
    }
   },
   "outputs": [
    {
     "data": {
      "text/plain": [
       "<tf.Tensor: shape=(2, 2), dtype=int32, numpy=\n",
       "array([[100,  49],\n",
       "       [  9,  16]])>"
      ]
     },
     "execution_count": 5,
     "metadata": {},
     "output_type": "execute_result"
    }
   ],
   "source": [
    "tensor * tensor"
   ]
  },
  {
   "cell_type": "code",
   "execution_count": 6,
   "id": "29a2fc49",
   "metadata": {
    "ExecuteTime": {
     "end_time": "2021-05-24T15:20:29.812751Z",
     "start_time": "2021-05-24T15:20:29.794798Z"
    }
   },
   "outputs": [
    {
     "data": {
      "text/plain": [
       "<tf.Tensor: shape=(2, 2), dtype=int32, numpy=\n",
       "array([[121,  98],\n",
       "       [ 42,  37]])>"
      ]
     },
     "execution_count": 6,
     "metadata": {},
     "output_type": "execute_result"
    }
   ],
   "source": [
    "# Metrix multiplication with python operator \"@\"\n",
    "tensor @ tensor"
   ]
  },
  {
   "cell_type": "code",
   "execution_count": 7,
   "id": "7535268f",
   "metadata": {
    "ExecuteTime": {
     "end_time": "2021-05-24T15:21:09.282290Z",
     "start_time": "2021-05-24T15:21:09.275309Z"
    }
   },
   "outputs": [
    {
     "data": {
      "text/plain": [
       "TensorShape([2, 2])"
      ]
     },
     "execution_count": 7,
     "metadata": {},
     "output_type": "execute_result"
    }
   ],
   "source": [
    "tensor.shape"
   ]
  },
  {
   "cell_type": "code",
   "execution_count": 8,
   "id": "4ce4a613",
   "metadata": {
    "ExecuteTime": {
     "end_time": "2021-05-24T15:57:07.576694Z",
     "start_time": "2021-05-24T15:57:07.556741Z"
    }
   },
   "outputs": [],
   "source": [
    "# create a tensor (3, 2) tensor\n",
    "x = tf.constant([[1, 2],\n",
    "                 [3, 4],\n",
    "                 [5, 6]])\n",
    "\n",
    "# Create a tensor (3, 3) tensor\n",
    "y = tf.constant([[1, 2, 3],\n",
    "                 [4, 5, 6],\n",
    "                 [7, 8, 9]])"
   ]
  },
  {
   "cell_type": "code",
   "execution_count": 9,
   "id": "8396d8e7",
   "metadata": {
    "ExecuteTime": {
     "end_time": "2021-05-24T17:05:12.899700Z",
     "start_time": "2021-05-24T17:05:12.866788Z"
    }
   },
   "outputs": [
    {
     "data": {
      "text/plain": [
       "(<tf.Tensor: shape=(3, 2), dtype=int32, numpy=\n",
       " array([[1, 2],\n",
       "        [3, 4],\n",
       "        [5, 6]])>,\n",
       " <tf.Tensor: shape=(3, 3), dtype=int32, numpy=\n",
       " array([[1, 2, 3],\n",
       "        [4, 5, 6],\n",
       "        [7, 8, 9]])>)"
      ]
     },
     "execution_count": 9,
     "metadata": {},
     "output_type": "execute_result"
    }
   ],
   "source": [
    "x, y"
   ]
  },
  {
   "cell_type": "code",
   "execution_count": 14,
   "id": "676fe678",
   "metadata": {
    "ExecuteTime": {
     "end_time": "2021-05-25T03:21:07.311148Z",
     "start_time": "2021-05-25T03:21:07.136314Z"
    }
   },
   "outputs": [
    {
     "ename": "InvalidArgumentError",
     "evalue": "In[0] mismatch In[1] shape: 2 vs. 3: [3,2] [3,3] 0 0 [Op:MatMul]",
     "output_type": "error",
     "traceback": [
      "\u001b[1;31m---------------------------------------------------------------------------\u001b[0m",
      "\u001b[1;31mInvalidArgumentError\u001b[0m                      Traceback (most recent call last)",
      "\u001b[1;32m<ipython-input-14-a8a96688cb91>\u001b[0m in \u001b[0;36m<module>\u001b[1;34m\u001b[0m\n\u001b[1;32m----> 1\u001b[1;33m \u001b[0mtf\u001b[0m\u001b[1;33m.\u001b[0m\u001b[0mmatmul\u001b[0m\u001b[1;33m(\u001b[0m\u001b[0mx\u001b[0m\u001b[1;33m,\u001b[0m \u001b[0my\u001b[0m\u001b[1;33m)\u001b[0m\u001b[1;33m\u001b[0m\u001b[1;33m\u001b[0m\u001b[0m\n\u001b[0m",
      "\u001b[1;32mc:\\program files\\python39\\lib\\site-packages\\tensorflow\\python\\util\\dispatch.py\u001b[0m in \u001b[0;36mwrapper\u001b[1;34m(*args, **kwargs)\u001b[0m\n\u001b[0;32m    204\u001b[0m     \u001b[1;34m\"\"\"Call target, and fall back on dispatchers if there is a TypeError.\"\"\"\u001b[0m\u001b[1;33m\u001b[0m\u001b[1;33m\u001b[0m\u001b[0m\n\u001b[0;32m    205\u001b[0m     \u001b[1;32mtry\u001b[0m\u001b[1;33m:\u001b[0m\u001b[1;33m\u001b[0m\u001b[1;33m\u001b[0m\u001b[0m\n\u001b[1;32m--> 206\u001b[1;33m       \u001b[1;32mreturn\u001b[0m \u001b[0mtarget\u001b[0m\u001b[1;33m(\u001b[0m\u001b[1;33m*\u001b[0m\u001b[0margs\u001b[0m\u001b[1;33m,\u001b[0m \u001b[1;33m**\u001b[0m\u001b[0mkwargs\u001b[0m\u001b[1;33m)\u001b[0m\u001b[1;33m\u001b[0m\u001b[1;33m\u001b[0m\u001b[0m\n\u001b[0m\u001b[0;32m    207\u001b[0m     \u001b[1;32mexcept\u001b[0m \u001b[1;33m(\u001b[0m\u001b[0mTypeError\u001b[0m\u001b[1;33m,\u001b[0m \u001b[0mValueError\u001b[0m\u001b[1;33m)\u001b[0m\u001b[1;33m:\u001b[0m\u001b[1;33m\u001b[0m\u001b[1;33m\u001b[0m\u001b[0m\n\u001b[0;32m    208\u001b[0m       \u001b[1;31m# Note: convert_to_eager_tensor currently raises a ValueError, not a\u001b[0m\u001b[1;33m\u001b[0m\u001b[1;33m\u001b[0m\u001b[1;33m\u001b[0m\u001b[0m\n",
      "\u001b[1;32mc:\\program files\\python39\\lib\\site-packages\\tensorflow\\python\\ops\\math_ops.py\u001b[0m in \u001b[0;36mmatmul\u001b[1;34m(a, b, transpose_a, transpose_b, adjoint_a, adjoint_b, a_is_sparse, b_is_sparse, name)\u001b[0m\n\u001b[0;32m   3487\u001b[0m       \u001b[1;32mreturn\u001b[0m \u001b[0mret\u001b[0m\u001b[1;33m\u001b[0m\u001b[1;33m\u001b[0m\u001b[0m\n\u001b[0;32m   3488\u001b[0m     \u001b[1;32melse\u001b[0m\u001b[1;33m:\u001b[0m\u001b[1;33m\u001b[0m\u001b[1;33m\u001b[0m\u001b[0m\n\u001b[1;32m-> 3489\u001b[1;33m       return gen_math_ops.mat_mul(\n\u001b[0m\u001b[0;32m   3490\u001b[0m           a, b, transpose_a=transpose_a, transpose_b=transpose_b, name=name)\n\u001b[0;32m   3491\u001b[0m \u001b[1;33m\u001b[0m\u001b[0m\n",
      "\u001b[1;32mc:\\program files\\python39\\lib\\site-packages\\tensorflow\\python\\ops\\gen_math_ops.py\u001b[0m in \u001b[0;36mmat_mul\u001b[1;34m(a, b, transpose_a, transpose_b, name)\u001b[0m\n\u001b[0;32m   5697\u001b[0m       \u001b[1;32mreturn\u001b[0m \u001b[0m_result\u001b[0m\u001b[1;33m\u001b[0m\u001b[1;33m\u001b[0m\u001b[0m\n\u001b[0;32m   5698\u001b[0m     \u001b[1;32mexcept\u001b[0m \u001b[0m_core\u001b[0m\u001b[1;33m.\u001b[0m\u001b[0m_NotOkStatusException\u001b[0m \u001b[1;32mas\u001b[0m \u001b[0me\u001b[0m\u001b[1;33m:\u001b[0m\u001b[1;33m\u001b[0m\u001b[1;33m\u001b[0m\u001b[0m\n\u001b[1;32m-> 5699\u001b[1;33m       \u001b[0m_ops\u001b[0m\u001b[1;33m.\u001b[0m\u001b[0mraise_from_not_ok_status\u001b[0m\u001b[1;33m(\u001b[0m\u001b[0me\u001b[0m\u001b[1;33m,\u001b[0m \u001b[0mname\u001b[0m\u001b[1;33m)\u001b[0m\u001b[1;33m\u001b[0m\u001b[1;33m\u001b[0m\u001b[0m\n\u001b[0m\u001b[0;32m   5700\u001b[0m     \u001b[1;32mexcept\u001b[0m \u001b[0m_core\u001b[0m\u001b[1;33m.\u001b[0m\u001b[0m_FallbackException\u001b[0m\u001b[1;33m:\u001b[0m\u001b[1;33m\u001b[0m\u001b[1;33m\u001b[0m\u001b[0m\n\u001b[0;32m   5701\u001b[0m       \u001b[1;32mpass\u001b[0m\u001b[1;33m\u001b[0m\u001b[1;33m\u001b[0m\u001b[0m\n",
      "\u001b[1;32mc:\\program files\\python39\\lib\\site-packages\\tensorflow\\python\\framework\\ops.py\u001b[0m in \u001b[0;36mraise_from_not_ok_status\u001b[1;34m(e, name)\u001b[0m\n\u001b[0;32m   6895\u001b[0m   \u001b[0mmessage\u001b[0m \u001b[1;33m=\u001b[0m \u001b[0me\u001b[0m\u001b[1;33m.\u001b[0m\u001b[0mmessage\u001b[0m \u001b[1;33m+\u001b[0m \u001b[1;33m(\u001b[0m\u001b[1;34m\" name: \"\u001b[0m \u001b[1;33m+\u001b[0m \u001b[0mname\u001b[0m \u001b[1;32mif\u001b[0m \u001b[0mname\u001b[0m \u001b[1;32mis\u001b[0m \u001b[1;32mnot\u001b[0m \u001b[1;32mNone\u001b[0m \u001b[1;32melse\u001b[0m \u001b[1;34m\"\"\u001b[0m\u001b[1;33m)\u001b[0m\u001b[1;33m\u001b[0m\u001b[1;33m\u001b[0m\u001b[0m\n\u001b[0;32m   6896\u001b[0m   \u001b[1;31m# pylint: disable=protected-access\u001b[0m\u001b[1;33m\u001b[0m\u001b[1;33m\u001b[0m\u001b[1;33m\u001b[0m\u001b[0m\n\u001b[1;32m-> 6897\u001b[1;33m   \u001b[0msix\u001b[0m\u001b[1;33m.\u001b[0m\u001b[0mraise_from\u001b[0m\u001b[1;33m(\u001b[0m\u001b[0mcore\u001b[0m\u001b[1;33m.\u001b[0m\u001b[0m_status_to_exception\u001b[0m\u001b[1;33m(\u001b[0m\u001b[0me\u001b[0m\u001b[1;33m.\u001b[0m\u001b[0mcode\u001b[0m\u001b[1;33m,\u001b[0m \u001b[0mmessage\u001b[0m\u001b[1;33m)\u001b[0m\u001b[1;33m,\u001b[0m \u001b[1;32mNone\u001b[0m\u001b[1;33m)\u001b[0m\u001b[1;33m\u001b[0m\u001b[1;33m\u001b[0m\u001b[0m\n\u001b[0m\u001b[0;32m   6898\u001b[0m   \u001b[1;31m# pylint: enable=protected-access\u001b[0m\u001b[1;33m\u001b[0m\u001b[1;33m\u001b[0m\u001b[1;33m\u001b[0m\u001b[0m\n\u001b[0;32m   6899\u001b[0m \u001b[1;33m\u001b[0m\u001b[0m\n",
      "\u001b[1;32mc:\\program files\\python39\\lib\\site-packages\\six.py\u001b[0m in \u001b[0;36mraise_from\u001b[1;34m(value, from_value)\u001b[0m\n",
      "\u001b[1;31mInvalidArgumentError\u001b[0m: In[0] mismatch In[1] shape: 2 vs. 3: [3,2] [3,3] 0 0 [Op:MatMul]"
     ]
    }
   ],
   "source": [
    "tf.matmul(x, y)"
   ]
  },
  {
   "cell_type": "markdown",
   "id": "2b566451",
   "metadata": {},
   "source": [
    "**There are couples rules our tensors (or matrices) need to fulfill if we're going to matrix multiply them:**\n",
    "1. The inner dimension must match \n",
    "2. the resulting matrix has the shape of the inner dimensions"
   ]
  },
  {
   "cell_type": "code",
   "execution_count": 11,
   "id": "c415fb93",
   "metadata": {
    "ExecuteTime": {
     "end_time": "2021-05-24T17:06:36.954670Z",
     "start_time": "2021-05-24T17:06:36.944696Z"
    },
    "scrolled": true
   },
   "outputs": [
    {
     "data": {
      "text/plain": [
       "<tf.Tensor: shape=(3, 2), dtype=int32, numpy=\n",
       "array([[ 22,  28],\n",
       "       [ 49,  64],\n",
       "       [ 76, 100]])>"
      ]
     },
     "execution_count": 11,
     "metadata": {},
     "output_type": "execute_result"
    }
   ],
   "source": [
    "tf.matmul(y, x)"
   ]
  },
  {
   "cell_type": "code",
   "execution_count": 12,
   "id": "f3ff0497",
   "metadata": {
    "ExecuteTime": {
     "end_time": "2021-05-24T17:07:15.541428Z",
     "start_time": "2021-05-24T17:07:15.527430Z"
    }
   },
   "outputs": [
    {
     "data": {
      "text/plain": [
       "<tf.Tensor: shape=(3, 2), dtype=int32, numpy=\n",
       "array([[ 22,  28],\n",
       "       [ 49,  64],\n",
       "       [ 76, 100]])>"
      ]
     },
     "execution_count": 12,
     "metadata": {},
     "output_type": "execute_result"
    }
   ],
   "source": [
    "y @ x"
   ]
  },
  {
   "cell_type": "markdown",
   "id": "9dd78b1e",
   "metadata": {},
   "source": [
    "📖 **Resources:** Info and example of matrix multiplication: https://www.mathsisfun.com/algebra/matrix-multiplying.html"
   ]
  },
  {
   "cell_type": "code",
   "execution_count": 15,
   "id": "f9afcc14",
   "metadata": {
    "ExecuteTime": {
     "end_time": "2021-05-25T03:58:32.821506Z",
     "start_time": "2021-05-25T03:58:32.784555Z"
    }
   },
   "outputs": [
    {
     "data": {
      "text/plain": [
       "<tf.Tensor: shape=(2, 3), dtype=int32, numpy=\n",
       "array([[1, 2, 3],\n",
       "       [4, 5, 6]])>"
      ]
     },
     "execution_count": 15,
     "metadata": {},
     "output_type": "execute_result"
    }
   ],
   "source": [
    "tf.reshape(x, shape=(2, 3))"
   ]
  },
  {
   "cell_type": "code",
   "execution_count": 17,
   "id": "57a96e1f",
   "metadata": {
    "ExecuteTime": {
     "end_time": "2021-05-25T03:59:19.909498Z",
     "start_time": "2021-05-25T03:59:19.889505Z"
    }
   },
   "outputs": [
    {
     "data": {
      "text/plain": [
       "<tf.Tensor: shape=(2, 3), dtype=int32, numpy=\n",
       "array([[30, 36, 42],\n",
       "       [66, 81, 96]])>"
      ]
     },
     "execution_count": 17,
     "metadata": {},
     "output_type": "execute_result"
    }
   ],
   "source": [
    "tf.reshape(x, shape=(2, 3)) @ y"
   ]
  },
  {
   "cell_type": "code",
   "execution_count": 18,
   "id": "db257175",
   "metadata": {
    "ExecuteTime": {
     "end_time": "2021-05-25T04:14:29.644440Z",
     "start_time": "2021-05-25T04:14:29.617511Z"
    }
   },
   "outputs": [
    {
     "data": {
      "text/plain": [
       "<tf.Tensor: shape=(2, 3), dtype=int32, numpy=\n",
       "array([[1, 3, 5],\n",
       "       [2, 4, 6]])>"
      ]
     },
     "execution_count": 18,
     "metadata": {},
     "output_type": "execute_result"
    }
   ],
   "source": [
    "tf.transpose(x)"
   ]
  },
  {
   "cell_type": "code",
   "execution_count": 19,
   "id": "0ca5d2de",
   "metadata": {
    "ExecuteTime": {
     "end_time": "2021-05-25T04:14:35.564688Z",
     "start_time": "2021-05-25T04:14:35.545739Z"
    }
   },
   "outputs": [
    {
     "data": {
      "text/plain": [
       "<tf.Tensor: shape=(3, 2), dtype=int32, numpy=\n",
       "array([[1, 2],\n",
       "       [3, 4],\n",
       "       [5, 6]])>"
      ]
     },
     "execution_count": 19,
     "metadata": {},
     "output_type": "execute_result"
    }
   ],
   "source": [
    "x"
   ]
  },
  {
   "cell_type": "code",
   "execution_count": 22,
   "id": "587df4a3",
   "metadata": {
    "ExecuteTime": {
     "end_time": "2021-05-25T04:15:24.579453Z",
     "start_time": "2021-05-25T04:15:24.569482Z"
    }
   },
   "outputs": [
    {
     "data": {
      "text/plain": [
       "<tf.Tensor: shape=(2, 3), dtype=int32, numpy=\n",
       "array([[48, 57, 66],\n",
       "       [60, 72, 84]])>"
      ]
     },
     "execution_count": 22,
     "metadata": {},
     "output_type": "execute_result"
    }
   ],
   "source": [
    "np.transpose(x) @ y"
   ]
  },
  {
   "cell_type": "code",
   "execution_count": 36,
   "id": "4cd0c1d2",
   "metadata": {
    "ExecuteTime": {
     "end_time": "2021-05-25T04:34:48.339028Z",
     "start_time": "2021-05-25T04:34:48.322086Z"
    }
   },
   "outputs": [
    {
     "data": {
      "text/plain": [
       "(<tf.Tensor: shape=(2, 3), dtype=int32, numpy=\n",
       " array([[1, 3, 5],\n",
       "        [2, 4, 6]])>,\n",
       " <tf.Tensor: shape=(2, 3), dtype=int32, numpy=\n",
       " array([[1, 2, 3],\n",
       "        [4, 5, 6]])>,\n",
       " array([[1, 3, 5],\n",
       "        [2, 4, 6]]),\n",
       " <tf.Tensor: shape=(3, 2), dtype=int32, numpy=\n",
       " array([[1, 2],\n",
       "        [3, 4],\n",
       "        [5, 6]])>)"
      ]
     },
     "execution_count": 36,
     "metadata": {},
     "output_type": "execute_result"
    }
   ],
   "source": [
    "tf.transpose(x), tf.reshape(x, shape=(2, 3)), np.transpose(x), x"
   ]
  },
  {
   "cell_type": "markdown",
   "id": "6676f498",
   "metadata": {},
   "source": [
    "**The `dot` product**\n",
    "\n",
    "Matrix multiplication is also referred to as the dot product.\n",
    "\n",
    "You can performed matrix multiplication using.\n",
    "* `tf.matmul()`\n",
    "* `tf.tesnordot()`\n",
    "* `@`"
   ]
  },
  {
   "cell_type": "code",
   "execution_count": 53,
   "id": "717e24e1",
   "metadata": {
    "ExecuteTime": {
     "end_time": "2021-05-25T05:01:14.369032Z",
     "start_time": "2021-05-25T05:01:14.357715Z"
    }
   },
   "outputs": [
    {
     "data": {
      "text/plain": [
       "<tf.Tensor: shape=(2, 3), dtype=int32, numpy=\n",
       "array([[48, 57, 66],\n",
       "       [60, 72, 84]])>"
      ]
     },
     "execution_count": 53,
     "metadata": {},
     "output_type": "execute_result"
    }
   ],
   "source": [
    "# Perform the dot product on x and y (requires x and y to be transposed)\n",
    "tf.tensordot(tf.transpose(x), y, axes=1)"
   ]
  },
  {
   "cell_type": "code",
   "execution_count": 60,
   "id": "4791bde3",
   "metadata": {
    "ExecuteTime": {
     "end_time": "2021-05-25T05:04:34.090584Z",
     "start_time": "2021-05-25T05:04:34.077618Z"
    }
   },
   "outputs": [
    {
     "data": {
      "text/plain": [
       "<tf.Tensor: shape=(2, 3), dtype=int32, numpy=\n",
       "array([[30, 36, 42],\n",
       "       [66, 81, 96]])>"
      ]
     },
     "execution_count": 60,
     "metadata": {},
     "output_type": "execute_result"
    }
   ],
   "source": [
    "tf.tensordot(tf.reshape(x, shape=(2, 3)), y, axes=1)"
   ]
  },
  {
   "cell_type": "code",
   "execution_count": 56,
   "id": "bb1f829e",
   "metadata": {
    "ExecuteTime": {
     "end_time": "2021-05-25T05:02:59.723854Z",
     "start_time": "2021-05-25T05:02:59.715873Z"
    }
   },
   "outputs": [
    {
     "data": {
      "text/plain": [
       "<tf.Tensor: shape=(3, 2), dtype=int32, numpy=\n",
       "array([[ 22,  28],\n",
       "       [ 49,  64],\n",
       "       [ 76, 100]])>"
      ]
     },
     "execution_count": 56,
     "metadata": {},
     "output_type": "execute_result"
    }
   ],
   "source": [
    "tf.tensordot(y, x, axes=1)"
   ]
  },
  {
   "cell_type": "markdown",
   "id": "74dd73fc",
   "metadata": {},
   "source": [
    "**Generally, when performing matrix multiplication of two tensor and one of the axes doesn't line up, you will transpose (rather than reshape) one of the tensors to get satisfy the matrix multiplications rules.**"
   ]
  },
  {
   "cell_type": "code",
   "execution_count": 54,
   "id": "50890bbe",
   "metadata": {
    "ExecuteTime": {
     "end_time": "2021-05-25T05:01:25.028378Z",
     "start_time": "2021-05-25T05:01:25.012424Z"
    }
   },
   "outputs": [
    {
     "data": {
      "text/plain": [
       "<tf.Tensor: shape=(2, 3, 3, 3), dtype=int32, numpy=\n",
       "array([[[[ 1,  2,  3],\n",
       "         [ 4,  5,  6],\n",
       "         [ 7,  8,  9]],\n",
       "\n",
       "        [[ 3,  6,  9],\n",
       "         [12, 15, 18],\n",
       "         [21, 24, 27]],\n",
       "\n",
       "        [[ 5, 10, 15],\n",
       "         [20, 25, 30],\n",
       "         [35, 40, 45]]],\n",
       "\n",
       "\n",
       "       [[[ 2,  4,  6],\n",
       "         [ 8, 10, 12],\n",
       "         [14, 16, 18]],\n",
       "\n",
       "        [[ 4,  8, 12],\n",
       "         [16, 20, 24],\n",
       "         [28, 32, 36]],\n",
       "\n",
       "        [[ 6, 12, 18],\n",
       "         [24, 30, 36],\n",
       "         [42, 48, 54]]]])>"
      ]
     },
     "execution_count": 54,
     "metadata": {},
     "output_type": "execute_result"
    }
   ],
   "source": [
    "tf.tensordot(tf.transpose(x), y, axes=0)"
   ]
  },
  {
   "cell_type": "code",
   "execution_count": 47,
   "id": "4c6ab391",
   "metadata": {
    "ExecuteTime": {
     "end_time": "2021-05-25T04:50:23.115764Z",
     "start_time": "2021-05-25T04:50:23.106788Z"
    }
   },
   "outputs": [
    {
     "data": {
      "text/plain": [
       "array([[48, 57, 66],\n",
       "       [60, 72, 84]])"
      ]
     },
     "execution_count": 47,
     "metadata": {},
     "output_type": "execute_result"
    }
   ],
   "source": [
    "np.dot(tf.transpose(x), y)"
   ]
  },
  {
   "cell_type": "markdown",
   "id": "bc5ec9e7",
   "metadata": {},
   "source": [
    "### Changing the datatype of a tensor"
   ]
  },
  {
   "cell_type": "code",
   "execution_count": 65,
   "id": "cc5ca565",
   "metadata": {
    "ExecuteTime": {
     "end_time": "2021-05-25T05:17:11.619642Z",
     "start_time": "2021-05-25T05:17:11.605677Z"
    }
   },
   "outputs": [
    {
     "data": {
      "text/plain": [
       "'2.5.0'"
      ]
     },
     "execution_count": 65,
     "metadata": {},
     "output_type": "execute_result"
    }
   ],
   "source": [
    "tf.__version__"
   ]
  },
  {
   "cell_type": "code",
   "execution_count": 62,
   "id": "ef525daf",
   "metadata": {
    "ExecuteTime": {
     "end_time": "2021-05-25T05:15:53.383682Z",
     "start_time": "2021-05-25T05:15:53.364737Z"
    }
   },
   "outputs": [
    {
     "data": {
      "text/plain": [
       "tf.float32"
      ]
     },
     "execution_count": 62,
     "metadata": {},
     "output_type": "execute_result"
    }
   ],
   "source": [
    "# Create a new tensor with defalut datatype (float32)\n",
    "b = tf.constant([1.7, 7.4])\n",
    "b.dtype"
   ]
  },
  {
   "cell_type": "code",
   "execution_count": 64,
   "id": "d799f698",
   "metadata": {
    "ExecuteTime": {
     "end_time": "2021-05-25T05:16:36.008690Z",
     "start_time": "2021-05-25T05:16:35.996722Z"
    }
   },
   "outputs": [
    {
     "data": {
      "text/plain": [
       "tf.int32"
      ]
     },
     "execution_count": 64,
     "metadata": {},
     "output_type": "execute_result"
    }
   ],
   "source": [
    "c = tf.constant([7, 10])\n",
    "c.dtype"
   ]
  },
  {
   "cell_type": "code",
   "execution_count": 66,
   "id": "6535115e",
   "metadata": {
    "ExecuteTime": {
     "end_time": "2021-05-25T05:24:03.067990Z",
     "start_time": "2021-05-25T05:24:03.045049Z"
    }
   },
   "outputs": [
    {
     "data": {
      "text/plain": [
       "<tf.Tensor: shape=(2,), dtype=float16, numpy=array([1.7, 7.4], dtype=float16)>"
      ]
     },
     "execution_count": 66,
     "metadata": {},
     "output_type": "execute_result"
    }
   ],
   "source": [
    "# change from float32 to float16 (reduced precision)\n",
    "d = tf.cast(b, dtype=tf.float16)\n",
    "d"
   ]
  },
  {
   "cell_type": "code",
   "execution_count": 79,
   "id": "8fcaa7ad",
   "metadata": {
    "ExecuteTime": {
     "end_time": "2021-05-25T05:28:50.960229Z",
     "start_time": "2021-05-25T05:28:50.943276Z"
    }
   },
   "outputs": [
    {
     "data": {
      "text/plain": [
       "<tf.Tensor: shape=(2,), dtype=int16, numpy=array([ 7, 10], dtype=int16)>"
      ]
     },
     "execution_count": 79,
     "metadata": {},
     "output_type": "execute_result"
    }
   ],
   "source": [
    "# Change from int32 to int16 (reduced precision)\n",
    "e = tf.cast(c, dtype=tf.int16)\n",
    "e"
   ]
  },
  {
   "cell_type": "markdown",
   "id": "2ac4e49e",
   "metadata": {},
   "source": [
    "### Aggregating Tensors\n",
    "\n",
    "Aggregating tensors = condensing them from multiple values down to a smaller amount of values."
   ]
  },
  {
   "cell_type": "code",
   "execution_count": 109,
   "id": "9fe324c7",
   "metadata": {
    "ExecuteTime": {
     "end_time": "2021-05-25T08:38:17.995450Z",
     "start_time": "2021-05-25T08:38:17.968520Z"
    }
   },
   "outputs": [
    {
     "data": {
      "text/plain": [
       "<tf.Tensor: shape=(2,), dtype=int32, numpy=array([ -7, -10])>"
      ]
     },
     "execution_count": 109,
     "metadata": {},
     "output_type": "execute_result"
    }
   ],
   "source": [
    "# Get the absolute values\n",
    "d = tf.constant([-7, -10])\n",
    "d"
   ]
  },
  {
   "cell_type": "code",
   "execution_count": 110,
   "id": "df991fa3",
   "metadata": {
    "ExecuteTime": {
     "end_time": "2021-05-25T08:42:36.395569Z",
     "start_time": "2021-05-25T08:42:36.358700Z"
    }
   },
   "outputs": [
    {
     "data": {
      "text/plain": [
       "<tf.Tensor: shape=(2,), dtype=int32, numpy=array([ 7, 10])>"
      ]
     },
     "execution_count": 110,
     "metadata": {},
     "output_type": "execute_result"
    }
   ],
   "source": [
    "# Get the absolute values\n",
    "tf.abs(d)"
   ]
  },
  {
   "cell_type": "markdown",
   "id": "0f619ae1",
   "metadata": {},
   "source": [
    "Let's go through the following forms of aggregation.\n",
    "* Get the minimum\n",
    "* Get the maximum\n",
    "* Get the mean of tensor\n",
    "* Get the sum of tensor"
   ]
  },
  {
   "cell_type": "code",
   "execution_count": 113,
   "id": "1a87cd97",
   "metadata": {
    "ExecuteTime": {
     "end_time": "2021-05-25T09:22:30.626820Z",
     "start_time": "2021-05-25T09:22:30.616027Z"
    }
   },
   "outputs": [
    {
     "data": {
      "text/plain": [
       "<tf.Tensor: shape=(3, 2), dtype=int32, numpy=\n",
       "array([[1, 2],\n",
       "       [3, 4],\n",
       "       [5, 6]])>"
      ]
     },
     "execution_count": 113,
     "metadata": {},
     "output_type": "execute_result"
    }
   ],
   "source": [
    "x"
   ]
  },
  {
   "cell_type": "code",
   "execution_count": 114,
   "id": "f08d80a9",
   "metadata": {
    "ExecuteTime": {
     "end_time": "2021-05-25T09:22:35.450307Z",
     "start_time": "2021-05-25T09:22:35.433353Z"
    }
   },
   "outputs": [
    {
     "data": {
      "text/plain": [
       "<tf.Tensor: shape=(), dtype=int32, numpy=3>"
      ]
     },
     "execution_count": 114,
     "metadata": {},
     "output_type": "execute_result"
    }
   ],
   "source": [
    "# Get the mean in tensor\n",
    "tf.math.reduce_mean(x)"
   ]
  },
  {
   "cell_type": "code",
   "execution_count": 115,
   "id": "324eed7e",
   "metadata": {
    "ExecuteTime": {
     "end_time": "2021-05-25T09:29:05.502372Z",
     "start_time": "2021-05-25T09:29:05.473411Z"
    }
   },
   "outputs": [
    {
     "data": {
      "text/plain": [
       "<tf.Tensor: shape=(), dtype=int32, numpy=6>"
      ]
     },
     "execution_count": 115,
     "metadata": {},
     "output_type": "execute_result"
    }
   ],
   "source": [
    "# Get the maximum value in tensor\n",
    "tf.math.reduce_max(x)"
   ]
  },
  {
   "cell_type": "code",
   "execution_count": 116,
   "id": "07bdd2ce",
   "metadata": {
    "ExecuteTime": {
     "end_time": "2021-05-25T09:29:32.038400Z",
     "start_time": "2021-05-25T09:29:32.016458Z"
    }
   },
   "outputs": [
    {
     "data": {
      "text/plain": [
       "<tf.Tensor: shape=(), dtype=int32, numpy=1>"
      ]
     },
     "execution_count": 116,
     "metadata": {},
     "output_type": "execute_result"
    }
   ],
   "source": [
    "# Get the minimum value in tensor\n",
    "tf.math.reduce_min(x)"
   ]
  },
  {
   "cell_type": "code",
   "execution_count": 117,
   "id": "bdbd033f",
   "metadata": {
    "ExecuteTime": {
     "end_time": "2021-05-25T09:30:04.225770Z",
     "start_time": "2021-05-25T09:30:04.202830Z"
    }
   },
   "outputs": [
    {
     "data": {
      "text/plain": [
       "<tf.Tensor: shape=(), dtype=int32, numpy=21>"
      ]
     },
     "execution_count": 117,
     "metadata": {},
     "output_type": "execute_result"
    }
   ],
   "source": [
    "# Get the sum of all tensor value\n",
    "tf.math.reduce_sum(x)"
   ]
  },
  {
   "cell_type": "code",
   "execution_count": 118,
   "id": "37b4fd87",
   "metadata": {
    "ExecuteTime": {
     "end_time": "2021-05-25T09:43:32.742063Z",
     "start_time": "2021-05-25T09:43:32.722117Z"
    }
   },
   "outputs": [
    {
     "data": {
      "text/plain": [
       "<tf.Tensor: shape=(50,), dtype=int32, numpy=\n",
       "array([18, 24, 98, 55, 87, 76, 81, 36, 49, 71, 56, 30, 62, 62, 89, 50, 46,\n",
       "       20, 54, 42, 71, 24, 47, 17, 23,  4, 37, 96, 22, 95, 91, 34, 73, 54,\n",
       "       29, 93, 22, 27, 71, 53, 47, 94, 84, 36, 28, 48, 48,  1, 23, 87])>"
      ]
     },
     "execution_count": 118,
     "metadata": {},
     "output_type": "execute_result"
    }
   ],
   "source": [
    "# Creating a random tensor with values between 0 and 100 of size 50\n",
    "r = tf.constant(np.random.randint(1, 100, 50))\n",
    "r"
   ]
  },
  {
   "cell_type": "code",
   "execution_count": 121,
   "id": "d3eb124e",
   "metadata": {
    "ExecuteTime": {
     "end_time": "2021-05-25T09:45:37.355562Z",
     "start_time": "2021-05-25T09:45:37.337613Z"
    }
   },
   "outputs": [
    {
     "data": {
      "text/plain": [
       "<tf.Tensor: shape=(5, 10), dtype=int32, numpy=\n",
       "array([[18, 24, 98, 55, 87, 76, 81, 36, 49, 71],\n",
       "       [56, 30, 62, 62, 89, 50, 46, 20, 54, 42],\n",
       "       [71, 24, 47, 17, 23,  4, 37, 96, 22, 95],\n",
       "       [91, 34, 73, 54, 29, 93, 22, 27, 71, 53],\n",
       "       [47, 94, 84, 36, 28, 48, 48,  1, 23, 87]])>"
      ]
     },
     "execution_count": 121,
     "metadata": {},
     "output_type": "execute_result"
    }
   ],
   "source": [
    "r = tf.reshape(r, shape=(5, -1))\n",
    "r"
   ]
  },
  {
   "cell_type": "code",
   "execution_count": 122,
   "id": "2292aab5",
   "metadata": {
    "ExecuteTime": {
     "end_time": "2021-05-25T09:51:14.790813Z",
     "start_time": "2021-05-25T09:51:14.778844Z"
    }
   },
   "outputs": [
    {
     "data": {
      "text/plain": [
       "<tf.Tensor: shape=(), dtype=int32, numpy=98>"
      ]
     },
     "execution_count": 122,
     "metadata": {},
     "output_type": "execute_result"
    }
   ],
   "source": [
    "# Get the maximum number of tensor r\n",
    "tf.math.reduce_max(r)"
   ]
  },
  {
   "cell_type": "code",
   "execution_count": 123,
   "id": "a9568b3b",
   "metadata": {
    "ExecuteTime": {
     "end_time": "2021-05-25T09:52:33.497609Z",
     "start_time": "2021-05-25T09:52:33.482648Z"
    }
   },
   "outputs": [
    {
     "data": {
      "text/plain": [
       "<tf.Tensor: shape=(), dtype=int32, numpy=1>"
      ]
     },
     "execution_count": 123,
     "metadata": {},
     "output_type": "execute_result"
    }
   ],
   "source": [
    "# Get the minimum number of tensor r\n",
    "tf.math.reduce_min(r)"
   ]
  },
  {
   "cell_type": "code",
   "execution_count": 124,
   "id": "44021d0e",
   "metadata": {
    "ExecuteTime": {
     "end_time": "2021-05-25T09:54:51.464372Z",
     "start_time": "2021-05-25T09:54:51.450413Z"
    }
   },
   "outputs": [
    {
     "data": {
      "text/plain": [
       "<tf.Tensor: shape=(), dtype=int32, numpy=51>"
      ]
     },
     "execution_count": 124,
     "metadata": {},
     "output_type": "execute_result"
    }
   ],
   "source": [
    "# Get the mean value of tensor r\n",
    "tf.math.reduce_mean(r)"
   ]
  },
  {
   "cell_type": "code",
   "execution_count": 125,
   "id": "64b0adaf",
   "metadata": {
    "ExecuteTime": {
     "end_time": "2021-05-25T10:05:53.334612Z",
     "start_time": "2021-05-25T10:05:53.322644Z"
    }
   },
   "outputs": [
    {
     "data": {
      "text/plain": [
       "<tf.Tensor: shape=(), dtype=int32, numpy=2585>"
      ]
     },
     "execution_count": 125,
     "metadata": {},
     "output_type": "execute_result"
    }
   ],
   "source": [
    "# Get the sum of tensor r\n",
    "tf.math.reduce_sum(r)"
   ]
  },
  {
   "cell_type": "code",
   "execution_count": 131,
   "id": "dbb42ce2",
   "metadata": {
    "ExecuteTime": {
     "end_time": "2021-05-25T10:12:15.660597Z",
     "start_time": "2021-05-25T10:12:15.642608Z"
    }
   },
   "outputs": [
    {
     "data": {
      "text/plain": [
       "(TensorShape([5, 10]), 2, 50)"
      ]
     },
     "execution_count": 131,
     "metadata": {},
     "output_type": "execute_result"
    }
   ],
   "source": [
    "r.shape, r.ndim, tf.size(r).numpy()"
   ]
  },
  {
   "cell_type": "code",
   "execution_count": 139,
   "id": "8809b0e0",
   "metadata": {
    "ExecuteTime": {
     "end_time": "2021-05-25T10:16:23.065790Z",
     "start_time": "2021-05-25T10:16:23.051789Z"
    }
   },
   "outputs": [
    {
     "data": {
      "text/plain": [
       "<tf.Tensor: shape=(10, 5, 1), dtype=int32, numpy=\n",
       "array([[[18],\n",
       "        [24],\n",
       "        [98],\n",
       "        [55],\n",
       "        [87]],\n",
       "\n",
       "       [[76],\n",
       "        [81],\n",
       "        [36],\n",
       "        [49],\n",
       "        [71]],\n",
       "\n",
       "       [[56],\n",
       "        [30],\n",
       "        [62],\n",
       "        [62],\n",
       "        [89]],\n",
       "\n",
       "       [[50],\n",
       "        [46],\n",
       "        [20],\n",
       "        [54],\n",
       "        [42]],\n",
       "\n",
       "       [[71],\n",
       "        [24],\n",
       "        [47],\n",
       "        [17],\n",
       "        [23]],\n",
       "\n",
       "       [[ 4],\n",
       "        [37],\n",
       "        [96],\n",
       "        [22],\n",
       "        [95]],\n",
       "\n",
       "       [[91],\n",
       "        [34],\n",
       "        [73],\n",
       "        [54],\n",
       "        [29]],\n",
       "\n",
       "       [[93],\n",
       "        [22],\n",
       "        [27],\n",
       "        [71],\n",
       "        [53]],\n",
       "\n",
       "       [[47],\n",
       "        [94],\n",
       "        [84],\n",
       "        [36],\n",
       "        [28]],\n",
       "\n",
       "       [[48],\n",
       "        [48],\n",
       "        [ 1],\n",
       "        [23],\n",
       "        [87]]])>"
      ]
     },
     "execution_count": 139,
     "metadata": {},
     "output_type": "execute_result"
    }
   ],
   "source": [
    "a = tf.reshape(r, shape=(10, 5, 1))\n",
    "a"
   ]
  },
  {
   "cell_type": "code",
   "execution_count": 141,
   "id": "9f4a7217",
   "metadata": {
    "ExecuteTime": {
     "end_time": "2021-05-25T10:17:19.720074Z",
     "start_time": "2021-05-25T10:17:19.708104Z"
    }
   },
   "outputs": [
    {
     "data": {
      "text/plain": [
       "<tf.Tensor: shape=(1, 5, 10), dtype=int32, numpy=\n",
       "array([[[18, 24, 98, 55, 87, 76, 81, 36, 49, 71],\n",
       "        [56, 30, 62, 62, 89, 50, 46, 20, 54, 42],\n",
       "        [71, 24, 47, 17, 23,  4, 37, 96, 22, 95],\n",
       "        [91, 34, 73, 54, 29, 93, 22, 27, 71, 53],\n",
       "        [47, 94, 84, 36, 28, 48, 48,  1, 23, 87]]])>"
      ]
     },
     "execution_count": 141,
     "metadata": {},
     "output_type": "execute_result"
    }
   ],
   "source": [
    "b = tf.reshape(a, shape=(1, 5, 10))\n",
    "b"
   ]
  },
  {
   "cell_type": "code",
   "execution_count": 146,
   "id": "4a4484c1",
   "metadata": {
    "ExecuteTime": {
     "end_time": "2021-05-25T10:19:30.197627Z",
     "start_time": "2021-05-25T10:19:30.147764Z"
    }
   },
   "outputs": [
    {
     "ename": "InvalidArgumentError",
     "evalue": "In[0] mismatch In[1] shape: 10 vs. 5: [10,5,10] [10,5,10] 0 0 [Op:BatchMatMulV2]",
     "output_type": "error",
     "traceback": [
      "\u001b[1;31m---------------------------------------------------------------------------\u001b[0m",
      "\u001b[1;31mInvalidArgumentError\u001b[0m                      Traceback (most recent call last)",
      "\u001b[1;32m<ipython-input-146-6bd8b05f81a7>\u001b[0m in \u001b[0;36m<module>\u001b[1;34m\u001b[0m\n\u001b[1;32m----> 1\u001b[1;33m \u001b[1;33m(\u001b[0m\u001b[0mb\u001b[0m \u001b[1;33m*\u001b[0m \u001b[0ma\u001b[0m\u001b[1;33m)\u001b[0m \u001b[1;33m@\u001b[0m \u001b[1;33m(\u001b[0m\u001b[0ma\u001b[0m \u001b[1;33m*\u001b[0m \u001b[0mb\u001b[0m\u001b[1;33m)\u001b[0m\u001b[1;33m\u001b[0m\u001b[1;33m\u001b[0m\u001b[0m\n\u001b[0m",
      "\u001b[1;32mc:\\program files\\python39\\lib\\site-packages\\tensorflow\\python\\ops\\math_ops.py\u001b[0m in \u001b[0;36mbinary_op_wrapper\u001b[1;34m(x, y)\u001b[0m\n\u001b[0;32m   1232\u001b[0m         \u001b[1;31m#   r_binary_op_wrapper use different force_same_dtype values.\u001b[0m\u001b[1;33m\u001b[0m\u001b[1;33m\u001b[0m\u001b[1;33m\u001b[0m\u001b[0m\n\u001b[0;32m   1233\u001b[0m         \u001b[0mx\u001b[0m\u001b[1;33m,\u001b[0m \u001b[0my\u001b[0m \u001b[1;33m=\u001b[0m \u001b[0mmaybe_promote_tensors\u001b[0m\u001b[1;33m(\u001b[0m\u001b[0mx\u001b[0m\u001b[1;33m,\u001b[0m \u001b[0my\u001b[0m\u001b[1;33m,\u001b[0m \u001b[0mforce_same_dtype\u001b[0m\u001b[1;33m=\u001b[0m\u001b[1;32mFalse\u001b[0m\u001b[1;33m)\u001b[0m\u001b[1;33m\u001b[0m\u001b[1;33m\u001b[0m\u001b[0m\n\u001b[1;32m-> 1234\u001b[1;33m         \u001b[1;32mreturn\u001b[0m \u001b[0mfunc\u001b[0m\u001b[1;33m(\u001b[0m\u001b[0mx\u001b[0m\u001b[1;33m,\u001b[0m \u001b[0my\u001b[0m\u001b[1;33m,\u001b[0m \u001b[0mname\u001b[0m\u001b[1;33m=\u001b[0m\u001b[0mname\u001b[0m\u001b[1;33m)\u001b[0m\u001b[1;33m\u001b[0m\u001b[1;33m\u001b[0m\u001b[0m\n\u001b[0m\u001b[0;32m   1235\u001b[0m       \u001b[1;32mexcept\u001b[0m \u001b[1;33m(\u001b[0m\u001b[0mTypeError\u001b[0m\u001b[1;33m,\u001b[0m \u001b[0mValueError\u001b[0m\u001b[1;33m)\u001b[0m \u001b[1;32mas\u001b[0m \u001b[0me\u001b[0m\u001b[1;33m:\u001b[0m\u001b[1;33m\u001b[0m\u001b[1;33m\u001b[0m\u001b[0m\n\u001b[0;32m   1236\u001b[0m         \u001b[1;31m# Even if dispatching the op failed, the RHS may be a tensor aware\u001b[0m\u001b[1;33m\u001b[0m\u001b[1;33m\u001b[0m\u001b[1;33m\u001b[0m\u001b[0m\n",
      "\u001b[1;32mc:\\program files\\python39\\lib\\site-packages\\tensorflow\\python\\ops\\math_ops.py\u001b[0m in \u001b[0;36mmatmul_wrapper\u001b[1;34m(a, b, name)\u001b[0m\n\u001b[0;32m   3596\u001b[0m   \u001b[1;32mif\u001b[0m \u001b[0mops\u001b[0m\u001b[1;33m.\u001b[0m\u001b[0m_numpy_style_type_promotion\u001b[0m\u001b[1;33m:\u001b[0m\u001b[1;33m\u001b[0m\u001b[1;33m\u001b[0m\u001b[0m\n\u001b[0;32m   3597\u001b[0m     \u001b[1;32mreturn\u001b[0m \u001b[0ma\u001b[0m\u001b[1;33m.\u001b[0m\u001b[0m_matmul\u001b[0m\u001b[1;33m(\u001b[0m\u001b[0mb\u001b[0m\u001b[1;33m)\u001b[0m\u001b[1;33m\u001b[0m\u001b[1;33m\u001b[0m\u001b[0m\n\u001b[1;32m-> 3598\u001b[1;33m   \u001b[1;32mreturn\u001b[0m \u001b[0mmatmul\u001b[0m\u001b[1;33m(\u001b[0m\u001b[0ma\u001b[0m\u001b[1;33m,\u001b[0m \u001b[0mb\u001b[0m\u001b[1;33m,\u001b[0m \u001b[0mname\u001b[0m\u001b[1;33m=\u001b[0m\u001b[0mname\u001b[0m\u001b[1;33m)\u001b[0m\u001b[1;33m\u001b[0m\u001b[1;33m\u001b[0m\u001b[0m\n\u001b[0m\u001b[0;32m   3599\u001b[0m \u001b[0mmatmul_wrapper\u001b[0m\u001b[1;33m.\u001b[0m\u001b[0m__doc__\u001b[0m \u001b[1;33m=\u001b[0m \u001b[0mmatmul\u001b[0m\u001b[1;33m.\u001b[0m\u001b[0m__doc__\u001b[0m\u001b[1;33m\u001b[0m\u001b[1;33m\u001b[0m\u001b[0m\n\u001b[0;32m   3600\u001b[0m \u001b[0m_OverrideBinaryOperatorHelper\u001b[0m\u001b[1;33m(\u001b[0m\u001b[0mmatmul_wrapper\u001b[0m\u001b[1;33m,\u001b[0m \u001b[1;34m\"matmul\"\u001b[0m\u001b[1;33m)\u001b[0m\u001b[1;33m\u001b[0m\u001b[1;33m\u001b[0m\u001b[0m\n",
      "\u001b[1;32mc:\\program files\\python39\\lib\\site-packages\\tensorflow\\python\\util\\dispatch.py\u001b[0m in \u001b[0;36mwrapper\u001b[1;34m(*args, **kwargs)\u001b[0m\n\u001b[0;32m    204\u001b[0m     \u001b[1;34m\"\"\"Call target, and fall back on dispatchers if there is a TypeError.\"\"\"\u001b[0m\u001b[1;33m\u001b[0m\u001b[1;33m\u001b[0m\u001b[0m\n\u001b[0;32m    205\u001b[0m     \u001b[1;32mtry\u001b[0m\u001b[1;33m:\u001b[0m\u001b[1;33m\u001b[0m\u001b[1;33m\u001b[0m\u001b[0m\n\u001b[1;32m--> 206\u001b[1;33m       \u001b[1;32mreturn\u001b[0m \u001b[0mtarget\u001b[0m\u001b[1;33m(\u001b[0m\u001b[1;33m*\u001b[0m\u001b[0margs\u001b[0m\u001b[1;33m,\u001b[0m \u001b[1;33m**\u001b[0m\u001b[0mkwargs\u001b[0m\u001b[1;33m)\u001b[0m\u001b[1;33m\u001b[0m\u001b[1;33m\u001b[0m\u001b[0m\n\u001b[0m\u001b[0;32m    207\u001b[0m     \u001b[1;32mexcept\u001b[0m \u001b[1;33m(\u001b[0m\u001b[0mTypeError\u001b[0m\u001b[1;33m,\u001b[0m \u001b[0mValueError\u001b[0m\u001b[1;33m)\u001b[0m\u001b[1;33m:\u001b[0m\u001b[1;33m\u001b[0m\u001b[1;33m\u001b[0m\u001b[0m\n\u001b[0;32m    208\u001b[0m       \u001b[1;31m# Note: convert_to_eager_tensor currently raises a ValueError, not a\u001b[0m\u001b[1;33m\u001b[0m\u001b[1;33m\u001b[0m\u001b[1;33m\u001b[0m\u001b[0m\n",
      "\u001b[1;32mc:\\program files\\python39\\lib\\site-packages\\tensorflow\\python\\ops\\math_ops.py\u001b[0m in \u001b[0;36mmatmul\u001b[1;34m(a, b, transpose_a, transpose_b, adjoint_a, adjoint_b, a_is_sparse, b_is_sparse, name)\u001b[0m\n\u001b[0;32m   3449\u001b[0m         \u001b[0mb\u001b[0m \u001b[1;33m=\u001b[0m \u001b[0mconj\u001b[0m\u001b[1;33m(\u001b[0m\u001b[0mb\u001b[0m\u001b[1;33m)\u001b[0m\u001b[1;33m\u001b[0m\u001b[1;33m\u001b[0m\u001b[0m\n\u001b[0;32m   3450\u001b[0m         \u001b[0madjoint_b\u001b[0m \u001b[1;33m=\u001b[0m \u001b[1;32mTrue\u001b[0m\u001b[1;33m\u001b[0m\u001b[1;33m\u001b[0m\u001b[0m\n\u001b[1;32m-> 3451\u001b[1;33m       return gen_math_ops.batch_mat_mul_v2(\n\u001b[0m\u001b[0;32m   3452\u001b[0m           a, b, adj_x=adjoint_a, adj_y=adjoint_b, name=name)\n\u001b[0;32m   3453\u001b[0m \u001b[1;33m\u001b[0m\u001b[0m\n",
      "\u001b[1;32mc:\\program files\\python39\\lib\\site-packages\\tensorflow\\python\\ops\\gen_math_ops.py\u001b[0m in \u001b[0;36mbatch_mat_mul_v2\u001b[1;34m(x, y, adj_x, adj_y, name)\u001b[0m\n\u001b[0;32m   1567\u001b[0m       \u001b[1;32mreturn\u001b[0m \u001b[0m_result\u001b[0m\u001b[1;33m\u001b[0m\u001b[1;33m\u001b[0m\u001b[0m\n\u001b[0;32m   1568\u001b[0m     \u001b[1;32mexcept\u001b[0m \u001b[0m_core\u001b[0m\u001b[1;33m.\u001b[0m\u001b[0m_NotOkStatusException\u001b[0m \u001b[1;32mas\u001b[0m \u001b[0me\u001b[0m\u001b[1;33m:\u001b[0m\u001b[1;33m\u001b[0m\u001b[1;33m\u001b[0m\u001b[0m\n\u001b[1;32m-> 1569\u001b[1;33m       \u001b[0m_ops\u001b[0m\u001b[1;33m.\u001b[0m\u001b[0mraise_from_not_ok_status\u001b[0m\u001b[1;33m(\u001b[0m\u001b[0me\u001b[0m\u001b[1;33m,\u001b[0m \u001b[0mname\u001b[0m\u001b[1;33m)\u001b[0m\u001b[1;33m\u001b[0m\u001b[1;33m\u001b[0m\u001b[0m\n\u001b[0m\u001b[0;32m   1570\u001b[0m     \u001b[1;32mexcept\u001b[0m \u001b[0m_core\u001b[0m\u001b[1;33m.\u001b[0m\u001b[0m_FallbackException\u001b[0m\u001b[1;33m:\u001b[0m\u001b[1;33m\u001b[0m\u001b[1;33m\u001b[0m\u001b[0m\n\u001b[0;32m   1571\u001b[0m       \u001b[1;32mpass\u001b[0m\u001b[1;33m\u001b[0m\u001b[1;33m\u001b[0m\u001b[0m\n",
      "\u001b[1;32mc:\\program files\\python39\\lib\\site-packages\\tensorflow\\python\\framework\\ops.py\u001b[0m in \u001b[0;36mraise_from_not_ok_status\u001b[1;34m(e, name)\u001b[0m\n\u001b[0;32m   6895\u001b[0m   \u001b[0mmessage\u001b[0m \u001b[1;33m=\u001b[0m \u001b[0me\u001b[0m\u001b[1;33m.\u001b[0m\u001b[0mmessage\u001b[0m \u001b[1;33m+\u001b[0m \u001b[1;33m(\u001b[0m\u001b[1;34m\" name: \"\u001b[0m \u001b[1;33m+\u001b[0m \u001b[0mname\u001b[0m \u001b[1;32mif\u001b[0m \u001b[0mname\u001b[0m \u001b[1;32mis\u001b[0m \u001b[1;32mnot\u001b[0m \u001b[1;32mNone\u001b[0m \u001b[1;32melse\u001b[0m \u001b[1;34m\"\"\u001b[0m\u001b[1;33m)\u001b[0m\u001b[1;33m\u001b[0m\u001b[1;33m\u001b[0m\u001b[0m\n\u001b[0;32m   6896\u001b[0m   \u001b[1;31m# pylint: disable=protected-access\u001b[0m\u001b[1;33m\u001b[0m\u001b[1;33m\u001b[0m\u001b[1;33m\u001b[0m\u001b[0m\n\u001b[1;32m-> 6897\u001b[1;33m   \u001b[0msix\u001b[0m\u001b[1;33m.\u001b[0m\u001b[0mraise_from\u001b[0m\u001b[1;33m(\u001b[0m\u001b[0mcore\u001b[0m\u001b[1;33m.\u001b[0m\u001b[0m_status_to_exception\u001b[0m\u001b[1;33m(\u001b[0m\u001b[0me\u001b[0m\u001b[1;33m.\u001b[0m\u001b[0mcode\u001b[0m\u001b[1;33m,\u001b[0m \u001b[0mmessage\u001b[0m\u001b[1;33m)\u001b[0m\u001b[1;33m,\u001b[0m \u001b[1;32mNone\u001b[0m\u001b[1;33m)\u001b[0m\u001b[1;33m\u001b[0m\u001b[1;33m\u001b[0m\u001b[0m\n\u001b[0m\u001b[0;32m   6898\u001b[0m   \u001b[1;31m# pylint: enable=protected-access\u001b[0m\u001b[1;33m\u001b[0m\u001b[1;33m\u001b[0m\u001b[1;33m\u001b[0m\u001b[0m\n\u001b[0;32m   6899\u001b[0m \u001b[1;33m\u001b[0m\u001b[0m\n",
      "\u001b[1;32mc:\\program files\\python39\\lib\\site-packages\\six.py\u001b[0m in \u001b[0;36mraise_from\u001b[1;34m(value, from_value)\u001b[0m\n",
      "\u001b[1;31mInvalidArgumentError\u001b[0m: In[0] mismatch In[1] shape: 10 vs. 5: [10,5,10] [10,5,10] 0 0 [Op:BatchMatMulV2]"
     ]
    }
   ],
   "source": [
    "(b * a) @ (a * b)"
   ]
  },
  {
   "cell_type": "code",
   "execution_count": 149,
   "id": "1cefa1a3",
   "metadata": {
    "ExecuteTime": {
     "end_time": "2021-05-25T10:20:40.752831Z",
     "start_time": "2021-05-25T10:20:40.741893Z"
    }
   },
   "outputs": [
    {
     "data": {
      "text/plain": [
       "<tf.Tensor: shape=(1, 10), dtype=int32, numpy=\n",
       "array([[17720, 13552, 19181, 10246,  9987, 12251, 11574, 12108, 10240,\n",
       "        22080]])>"
      ]
     },
     "execution_count": 149,
     "metadata": {},
     "output_type": "execute_result"
    }
   ],
   "source": [
    "tf.transpose(a[0]) @ b[0]"
   ]
  },
  {
   "cell_type": "code",
   "execution_count": 150,
   "id": "b31918cc",
   "metadata": {
    "ExecuteTime": {
     "end_time": "2021-05-25T11:51:41.643709Z",
     "start_time": "2021-05-25T11:51:41.626754Z"
    }
   },
   "outputs": [
    {
     "data": {
      "text/plain": [
       "98"
      ]
     },
     "execution_count": 150,
     "metadata": {},
     "output_type": "execute_result"
    }
   ],
   "source": [
    "np.max(r)"
   ]
  },
  {
   "cell_type": "code",
   "execution_count": 151,
   "id": "7b9b8a2c",
   "metadata": {
    "ExecuteTime": {
     "end_time": "2021-05-25T11:51:50.629800Z",
     "start_time": "2021-05-25T11:51:50.616835Z"
    }
   },
   "outputs": [
    {
     "data": {
      "text/plain": [
       "1"
      ]
     },
     "execution_count": 151,
     "metadata": {},
     "output_type": "execute_result"
    }
   ],
   "source": [
    "np.min(r)"
   ]
  },
  {
   "cell_type": "code",
   "execution_count": 154,
   "id": "7abc8529",
   "metadata": {
    "ExecuteTime": {
     "end_time": "2021-05-25T11:52:46.871408Z",
     "start_time": "2021-05-25T11:52:46.858443Z"
    }
   },
   "outputs": [
    {
     "data": {
      "text/plain": [
       "51.7"
      ]
     },
     "execution_count": 154,
     "metadata": {},
     "output_type": "execute_result"
    }
   ],
   "source": [
    "np.mean(r)"
   ]
  },
  {
   "cell_type": "code",
   "execution_count": 153,
   "id": "17ff803f",
   "metadata": {
    "ExecuteTime": {
     "end_time": "2021-05-25T11:52:12.544696Z",
     "start_time": "2021-05-25T11:52:12.528776Z"
    }
   },
   "outputs": [
    {
     "data": {
      "text/plain": [
       "48.5"
      ]
     },
     "execution_count": 153,
     "metadata": {},
     "output_type": "execute_result"
    }
   ],
   "source": [
    "np.median(r)"
   ]
  },
  {
   "cell_type": "code",
   "execution_count": 155,
   "id": "47936075",
   "metadata": {
    "ExecuteTime": {
     "end_time": "2021-05-25T11:53:01.927338Z",
     "start_time": "2021-05-25T11:53:01.920357Z"
    }
   },
   "outputs": [
    {
     "data": {
      "text/plain": [
       "2585"
      ]
     },
     "execution_count": 155,
     "metadata": {},
     "output_type": "execute_result"
    }
   ],
   "source": [
    "np.sum(r)"
   ]
  },
  {
   "cell_type": "markdown",
   "id": "35b2a511",
   "metadata": {},
   "source": [
    "🛠 **Exercise:** with what we've just learned, find the variance and standard deviation of our `'r'` tensor using Tensorflow methods"
   ]
  },
  {
   "cell_type": "code",
   "execution_count": 157,
   "id": "c1a6badd",
   "metadata": {
    "ExecuteTime": {
     "end_time": "2021-05-25T12:12:13.639465Z",
     "start_time": "2021-05-25T12:12:13.625501Z"
    }
   },
   "outputs": [
    {
     "data": {
      "text/plain": [
       "98"
      ]
     },
     "execution_count": 157,
     "metadata": {},
     "output_type": "execute_result"
    }
   ],
   "source": [
    "tf.math.reduce_max(r).numpy()"
   ]
  },
  {
   "cell_type": "code",
   "execution_count": 158,
   "id": "448c4435",
   "metadata": {
    "ExecuteTime": {
     "end_time": "2021-05-25T12:13:00.763365Z",
     "start_time": "2021-05-25T12:13:00.747562Z"
    }
   },
   "outputs": [
    {
     "data": {
      "text/plain": [
       "1"
      ]
     },
     "execution_count": 158,
     "metadata": {},
     "output_type": "execute_result"
    }
   ],
   "source": [
    "tf.math.reduce_min(r).numpy()"
   ]
  },
  {
   "cell_type": "code",
   "execution_count": 165,
   "id": "6b11d1d5",
   "metadata": {
    "ExecuteTime": {
     "end_time": "2021-05-25T12:26:17.662552Z",
     "start_time": "2021-05-25T12:26:17.642609Z"
    }
   },
   "outputs": [
    {
     "data": {
      "text/plain": [
       "2"
      ]
     },
     "execution_count": 165,
     "metadata": {},
     "output_type": "execute_result"
    }
   ],
   "source": [
    "r.ndim"
   ]
  },
  {
   "cell_type": "code",
   "execution_count": 167,
   "id": "9019162e",
   "metadata": {
    "ExecuteTime": {
     "end_time": "2021-05-25T12:26:42.720667Z",
     "start_time": "2021-05-25T12:26:42.706704Z"
    }
   },
   "outputs": [
    {
     "data": {
      "text/plain": [
       "<tf.Tensor: shape=(5,), dtype=int32, numpy=array([205, 171, 169, 190, 181])>"
      ]
     },
     "execution_count": 167,
     "metadata": {},
     "output_type": "execute_result"
    }
   ],
   "source": [
    "tf.math.reduce_euclidean_norm(r, 1)"
   ]
  },
  {
   "cell_type": "code",
   "execution_count": 173,
   "id": "bf0cd374",
   "metadata": {
    "ExecuteTime": {
     "end_time": "2021-05-25T12:39:23.008481Z",
     "start_time": "2021-05-25T12:39:22.995477Z"
    }
   },
   "outputs": [
    {
     "data": {
      "text/plain": [
       "<tf.Tensor: shape=(5,), dtype=int32, numpy=array([-1912979968,   858705920,  -726960128,  1154765976,  -286687232])>"
      ]
     },
     "execution_count": 173,
     "metadata": {},
     "output_type": "execute_result"
    }
   ],
   "source": [
    "tf.math.reduce_prod(r, 1)"
   ]
  },
  {
   "cell_type": "code",
   "execution_count": 174,
   "id": "9339d8ef",
   "metadata": {
    "ExecuteTime": {
     "end_time": "2021-05-25T13:44:48.270612Z",
     "start_time": "2021-05-25T13:44:48.235703Z"
    }
   },
   "outputs": [
    {
     "data": {
      "text/plain": [
       "<tf.Tensor: shape=(), dtype=int32, numpy=2585>"
      ]
     },
     "execution_count": 174,
     "metadata": {},
     "output_type": "execute_result"
    }
   ],
   "source": [
    "tf.math.reduce_sum(r)"
   ]
  },
  {
   "cell_type": "code",
   "execution_count": 175,
   "id": "84d31c72",
   "metadata": {
    "ExecuteTime": {
     "end_time": "2021-05-26T02:25:40.933767Z",
     "start_time": "2021-05-26T02:25:40.741284Z"
    }
   },
   "outputs": [
    {
     "ename": "AttributeError",
     "evalue": "module 'tensorflow' has no attribute 'reduce_varience'",
     "output_type": "error",
     "traceback": [
      "\u001b[1;31m---------------------------------------------------------------------------\u001b[0m",
      "\u001b[1;31mAttributeError\u001b[0m                            Traceback (most recent call last)",
      "\u001b[1;32m<ipython-input-175-1415fa7eec24>\u001b[0m in \u001b[0;36m<module>\u001b[1;34m\u001b[0m\n\u001b[0;32m      1\u001b[0m \u001b[1;31m# Find the varience of our tensor\u001b[0m\u001b[1;33m\u001b[0m\u001b[1;33m\u001b[0m\u001b[1;33m\u001b[0m\u001b[0m\n\u001b[1;32m----> 2\u001b[1;33m \u001b[0mtf\u001b[0m\u001b[1;33m.\u001b[0m\u001b[0mreduce_varience\u001b[0m\u001b[1;33m(\u001b[0m\u001b[0mr\u001b[0m\u001b[1;33m)\u001b[0m\u001b[1;33m\u001b[0m\u001b[1;33m\u001b[0m\u001b[0m\n\u001b[0m",
      "\u001b[1;31mAttributeError\u001b[0m: module 'tensorflow' has no attribute 'reduce_varience'"
     ]
    }
   ],
   "source": [
    "# Find the varience of our tensor\n",
    "tf.reduce_varience(r)"
   ]
  },
  {
   "cell_type": "code",
   "execution_count": 182,
   "id": "f0f91c71",
   "metadata": {
    "ExecuteTime": {
     "end_time": "2021-05-26T02:37:27.733013Z",
     "start_time": "2021-05-26T02:37:24.211748Z"
    }
   },
   "outputs": [],
   "source": [
    "import tensorflow_probability as tfp"
   ]
  },
  {
   "cell_type": "code",
   "execution_count": 183,
   "id": "aa30bf60",
   "metadata": {
    "ExecuteTime": {
     "end_time": "2021-05-26T02:38:27.631408Z",
     "start_time": "2021-05-26T02:38:27.604479Z"
    }
   },
   "outputs": [
    {
     "data": {
      "text/plain": [
       "<tf.Tensor: shape=(10,), dtype=int32, numpy=array([ 595,  711,  309,  267,  907,  911,  377, 1032,  356,  397])>"
      ]
     },
     "execution_count": 183,
     "metadata": {},
     "output_type": "execute_result"
    }
   ],
   "source": [
    "tfp.stats.variance(r)"
   ]
  },
  {
   "cell_type": "code",
   "execution_count": 186,
   "id": "bc40f711",
   "metadata": {
    "ExecuteTime": {
     "end_time": "2021-05-26T03:24:42.969451Z",
     "start_time": "2021-05-26T03:24:42.958478Z"
    }
   },
   "outputs": [],
   "source": [
    "r = tf.reshape(r, shape=(50))"
   ]
  },
  {
   "cell_type": "code",
   "execution_count": 187,
   "id": "7527c556",
   "metadata": {
    "ExecuteTime": {
     "end_time": "2021-05-26T03:24:58.538428Z",
     "start_time": "2021-05-26T03:24:58.526459Z"
    }
   },
   "outputs": [
    {
     "data": {
      "text/plain": [
       "<tf.Tensor: shape=(50,), dtype=int32, numpy=\n",
       "array([18, 24, 98, 55, 87, 76, 81, 36, 49, 71, 56, 30, 62, 62, 89, 50, 46,\n",
       "       20, 54, 42, 71, 24, 47, 17, 23,  4, 37, 96, 22, 95, 91, 34, 73, 54,\n",
       "       29, 93, 22, 27, 71, 53, 47, 94, 84, 36, 28, 48, 48,  1, 23, 87])>"
      ]
     },
     "execution_count": 187,
     "metadata": {},
     "output_type": "execute_result"
    }
   ],
   "source": [
    "r"
   ]
  },
  {
   "cell_type": "code",
   "execution_count": 188,
   "id": "49be3ae9",
   "metadata": {
    "ExecuteTime": {
     "end_time": "2021-05-26T03:25:27.310863Z",
     "start_time": "2021-05-26T03:25:27.295242Z"
    }
   },
   "outputs": [
    {
     "data": {
      "text/plain": [
       "<tf.Tensor: shape=(), dtype=int32, numpy=715>"
      ]
     },
     "execution_count": 188,
     "metadata": {},
     "output_type": "execute_result"
    }
   ],
   "source": [
    "# To find the variance of our tensor we need access to tensorflo_probability\n",
    "import tensorflow_probability as tfp\n",
    "tfp.stats.variance(r)"
   ]
  },
  {
   "cell_type": "code",
   "execution_count": 197,
   "id": "78690ec3",
   "metadata": {
    "ExecuteTime": {
     "end_time": "2021-05-26T03:42:17.642809Z",
     "start_time": "2021-05-26T03:42:17.623860Z"
    }
   },
   "outputs": [
    {
     "data": {
      "text/plain": [
       "<tf.Tensor: shape=(), dtype=float32, numpy=714.93>"
      ]
     },
     "execution_count": 197,
     "metadata": {},
     "output_type": "execute_result"
    }
   ],
   "source": [
    "tfp.stats.variance(tf.cast(r, tf.float32))"
   ]
  },
  {
   "cell_type": "code",
   "execution_count": 189,
   "id": "3833d4fa",
   "metadata": {
    "ExecuteTime": {
     "end_time": "2021-05-26T03:29:14.024509Z",
     "start_time": "2021-05-26T03:29:13.990601Z"
    }
   },
   "outputs": [
    {
     "ename": "TypeError",
     "evalue": "Input must be either real or complex",
     "output_type": "error",
     "traceback": [
      "\u001b[1;31m---------------------------------------------------------------------------\u001b[0m",
      "\u001b[1;31mTypeError\u001b[0m                                 Traceback (most recent call last)",
      "\u001b[1;32m<ipython-input-189-515c263e68ea>\u001b[0m in \u001b[0;36m<module>\u001b[1;34m\u001b[0m\n\u001b[0;32m      1\u001b[0m \u001b[1;31m# Find the standard deviation\u001b[0m\u001b[1;33m\u001b[0m\u001b[1;33m\u001b[0m\u001b[1;33m\u001b[0m\u001b[0m\n\u001b[1;32m----> 2\u001b[1;33m \u001b[0mtf\u001b[0m\u001b[1;33m.\u001b[0m\u001b[0mmath\u001b[0m\u001b[1;33m.\u001b[0m\u001b[0mreduce_std\u001b[0m\u001b[1;33m(\u001b[0m\u001b[0mr\u001b[0m\u001b[1;33m)\u001b[0m\u001b[1;33m\u001b[0m\u001b[1;33m\u001b[0m\u001b[0m\n\u001b[0m",
      "\u001b[1;32mc:\\program files\\python39\\lib\\site-packages\\tensorflow\\python\\util\\dispatch.py\u001b[0m in \u001b[0;36mwrapper\u001b[1;34m(*args, **kwargs)\u001b[0m\n\u001b[0;32m    204\u001b[0m     \u001b[1;34m\"\"\"Call target, and fall back on dispatchers if there is a TypeError.\"\"\"\u001b[0m\u001b[1;33m\u001b[0m\u001b[1;33m\u001b[0m\u001b[0m\n\u001b[0;32m    205\u001b[0m     \u001b[1;32mtry\u001b[0m\u001b[1;33m:\u001b[0m\u001b[1;33m\u001b[0m\u001b[1;33m\u001b[0m\u001b[0m\n\u001b[1;32m--> 206\u001b[1;33m       \u001b[1;32mreturn\u001b[0m \u001b[0mtarget\u001b[0m\u001b[1;33m(\u001b[0m\u001b[1;33m*\u001b[0m\u001b[0margs\u001b[0m\u001b[1;33m,\u001b[0m \u001b[1;33m**\u001b[0m\u001b[0mkwargs\u001b[0m\u001b[1;33m)\u001b[0m\u001b[1;33m\u001b[0m\u001b[1;33m\u001b[0m\u001b[0m\n\u001b[0m\u001b[0;32m    207\u001b[0m     \u001b[1;32mexcept\u001b[0m \u001b[1;33m(\u001b[0m\u001b[0mTypeError\u001b[0m\u001b[1;33m,\u001b[0m \u001b[0mValueError\u001b[0m\u001b[1;33m)\u001b[0m\u001b[1;33m:\u001b[0m\u001b[1;33m\u001b[0m\u001b[1;33m\u001b[0m\u001b[0m\n\u001b[0;32m    208\u001b[0m       \u001b[1;31m# Note: convert_to_eager_tensor currently raises a ValueError, not a\u001b[0m\u001b[1;33m\u001b[0m\u001b[1;33m\u001b[0m\u001b[1;33m\u001b[0m\u001b[0m\n",
      "\u001b[1;32mc:\\program files\\python39\\lib\\site-packages\\tensorflow\\python\\ops\\math_ops.py\u001b[0m in \u001b[0;36mreduce_std\u001b[1;34m(input_tensor, axis, keepdims, name)\u001b[0m\n\u001b[0;32m   2556\u001b[0m   \u001b[0mname\u001b[0m \u001b[1;33m=\u001b[0m \u001b[0mname\u001b[0m \u001b[1;32mif\u001b[0m \u001b[0mname\u001b[0m \u001b[1;32melse\u001b[0m \u001b[1;34m\"reduce_std\"\u001b[0m\u001b[1;33m\u001b[0m\u001b[1;33m\u001b[0m\u001b[0m\n\u001b[0;32m   2557\u001b[0m   \u001b[1;32mwith\u001b[0m \u001b[0mops\u001b[0m\u001b[1;33m.\u001b[0m\u001b[0mname_scope\u001b[0m\u001b[1;33m(\u001b[0m\u001b[0mname\u001b[0m\u001b[1;33m)\u001b[0m\u001b[1;33m:\u001b[0m\u001b[1;33m\u001b[0m\u001b[1;33m\u001b[0m\u001b[0m\n\u001b[1;32m-> 2558\u001b[1;33m     \u001b[0mvariance\u001b[0m \u001b[1;33m=\u001b[0m \u001b[0mreduce_variance\u001b[0m\u001b[1;33m(\u001b[0m\u001b[0minput_tensor\u001b[0m\u001b[1;33m,\u001b[0m \u001b[0maxis\u001b[0m\u001b[1;33m=\u001b[0m\u001b[0maxis\u001b[0m\u001b[1;33m,\u001b[0m \u001b[0mkeepdims\u001b[0m\u001b[1;33m=\u001b[0m\u001b[0mkeepdims\u001b[0m\u001b[1;33m)\u001b[0m\u001b[1;33m\u001b[0m\u001b[1;33m\u001b[0m\u001b[0m\n\u001b[0m\u001b[0;32m   2559\u001b[0m     \u001b[1;32mreturn\u001b[0m \u001b[0mgen_math_ops\u001b[0m\u001b[1;33m.\u001b[0m\u001b[0msqrt\u001b[0m\u001b[1;33m(\u001b[0m\u001b[0mvariance\u001b[0m\u001b[1;33m)\u001b[0m\u001b[1;33m\u001b[0m\u001b[1;33m\u001b[0m\u001b[0m\n\u001b[0;32m   2560\u001b[0m \u001b[1;33m\u001b[0m\u001b[0m\n",
      "\u001b[1;32mc:\\program files\\python39\\lib\\site-packages\\tensorflow\\python\\util\\dispatch.py\u001b[0m in \u001b[0;36mwrapper\u001b[1;34m(*args, **kwargs)\u001b[0m\n\u001b[0;32m    204\u001b[0m     \u001b[1;34m\"\"\"Call target, and fall back on dispatchers if there is a TypeError.\"\"\"\u001b[0m\u001b[1;33m\u001b[0m\u001b[1;33m\u001b[0m\u001b[0m\n\u001b[0;32m    205\u001b[0m     \u001b[1;32mtry\u001b[0m\u001b[1;33m:\u001b[0m\u001b[1;33m\u001b[0m\u001b[1;33m\u001b[0m\u001b[0m\n\u001b[1;32m--> 206\u001b[1;33m       \u001b[1;32mreturn\u001b[0m \u001b[0mtarget\u001b[0m\u001b[1;33m(\u001b[0m\u001b[1;33m*\u001b[0m\u001b[0margs\u001b[0m\u001b[1;33m,\u001b[0m \u001b[1;33m**\u001b[0m\u001b[0mkwargs\u001b[0m\u001b[1;33m)\u001b[0m\u001b[1;33m\u001b[0m\u001b[1;33m\u001b[0m\u001b[0m\n\u001b[0m\u001b[0;32m    207\u001b[0m     \u001b[1;32mexcept\u001b[0m \u001b[1;33m(\u001b[0m\u001b[0mTypeError\u001b[0m\u001b[1;33m,\u001b[0m \u001b[0mValueError\u001b[0m\u001b[1;33m)\u001b[0m\u001b[1;33m:\u001b[0m\u001b[1;33m\u001b[0m\u001b[1;33m\u001b[0m\u001b[0m\n\u001b[0;32m    208\u001b[0m       \u001b[1;31m# Note: convert_to_eager_tensor currently raises a ValueError, not a\u001b[0m\u001b[1;33m\u001b[0m\u001b[1;33m\u001b[0m\u001b[1;33m\u001b[0m\u001b[0m\n",
      "\u001b[1;32mc:\\program files\\python39\\lib\\site-packages\\tensorflow\\python\\ops\\math_ops.py\u001b[0m in \u001b[0;36mreduce_variance\u001b[1;34m(input_tensor, axis, keepdims, name)\u001b[0m\n\u001b[0;32m   2497\u001b[0m     \u001b[0mmeans\u001b[0m \u001b[1;33m=\u001b[0m \u001b[0mreduce_mean\u001b[0m\u001b[1;33m(\u001b[0m\u001b[0minput_tensor\u001b[0m\u001b[1;33m,\u001b[0m \u001b[0maxis\u001b[0m\u001b[1;33m=\u001b[0m\u001b[0maxis\u001b[0m\u001b[1;33m,\u001b[0m \u001b[0mkeepdims\u001b[0m\u001b[1;33m=\u001b[0m\u001b[1;32mTrue\u001b[0m\u001b[1;33m)\u001b[0m\u001b[1;33m\u001b[0m\u001b[1;33m\u001b[0m\u001b[0m\n\u001b[0;32m   2498\u001b[0m     \u001b[1;32mif\u001b[0m \u001b[0mmeans\u001b[0m\u001b[1;33m.\u001b[0m\u001b[0mdtype\u001b[0m\u001b[1;33m.\u001b[0m\u001b[0mis_integer\u001b[0m\u001b[1;33m:\u001b[0m\u001b[1;33m\u001b[0m\u001b[1;33m\u001b[0m\u001b[0m\n\u001b[1;32m-> 2499\u001b[1;33m       \u001b[1;32mraise\u001b[0m \u001b[0mTypeError\u001b[0m\u001b[1;33m(\u001b[0m\u001b[1;34m\"Input must be either real or complex\"\u001b[0m\u001b[1;33m)\u001b[0m\u001b[1;33m\u001b[0m\u001b[1;33m\u001b[0m\u001b[0m\n\u001b[0m\u001b[0;32m   2500\u001b[0m     \u001b[0mdiff\u001b[0m \u001b[1;33m=\u001b[0m \u001b[0minput_tensor\u001b[0m \u001b[1;33m-\u001b[0m \u001b[0mmeans\u001b[0m\u001b[1;33m\u001b[0m\u001b[1;33m\u001b[0m\u001b[0m\n\u001b[0;32m   2501\u001b[0m     \u001b[1;32mif\u001b[0m \u001b[0mdiff\u001b[0m\u001b[1;33m.\u001b[0m\u001b[0mdtype\u001b[0m\u001b[1;33m.\u001b[0m\u001b[0mis_complex\u001b[0m\u001b[1;33m:\u001b[0m\u001b[1;33m\u001b[0m\u001b[1;33m\u001b[0m\u001b[0m\n",
      "\u001b[1;31mTypeError\u001b[0m: Input must be either real or complex"
     ]
    }
   ],
   "source": [
    "# Find the standard deviation\n",
    "tf.math.reduce_std(r)"
   ]
  },
  {
   "cell_type": "code",
   "execution_count": 192,
   "id": "e81095bb",
   "metadata": {
    "ExecuteTime": {
     "end_time": "2021-05-26T03:35:12.988213Z",
     "start_time": "2021-05-26T03:35:12.959289Z"
    }
   },
   "outputs": [
    {
     "data": {
      "text/plain": [
       "<tf.Tensor: shape=(), dtype=float32, numpy=26.738174>"
      ]
     },
     "execution_count": 192,
     "metadata": {},
     "output_type": "execute_result"
    }
   ],
   "source": [
    "tf.math.reduce_std(tf.cast(r, dtype=tf.float32))"
   ]
  },
  {
   "cell_type": "markdown",
   "id": "b0cad6b2",
   "metadata": {},
   "source": [
    "### Find the positional maximum and minimum"
   ]
  },
  {
   "cell_type": "code",
   "execution_count": 196,
   "id": "391d068b",
   "metadata": {
    "ExecuteTime": {
     "end_time": "2021-05-26T03:41:08.523046Z",
     "start_time": "2021-05-26T03:41:08.503101Z"
    }
   },
   "outputs": [
    {
     "data": {
      "text/plain": [
       "<tf.Tensor: shape=(), dtype=float32, numpy=714.93>"
      ]
     },
     "execution_count": 196,
     "metadata": {},
     "output_type": "execute_result"
    }
   ],
   "source": [
    "tf.math.reduce_variance(tf.cast(r, tf.float32))"
   ]
  },
  {
   "cell_type": "code",
   "execution_count": 203,
   "id": "7abdabeb",
   "metadata": {
    "ExecuteTime": {
     "end_time": "2021-05-26T03:49:50.993963Z",
     "start_time": "2021-05-26T03:49:50.983992Z"
    }
   },
   "outputs": [
    {
     "data": {
      "text/plain": [
       "<tf.Tensor: shape=(50,), dtype=float32, numpy=\n",
       "array([0.6645621 , 0.44100678, 0.3528825 , 0.46448255, 0.03366041,\n",
       "       0.68467236, 0.74011743, 0.8724445 , 0.22632635, 0.22319686,\n",
       "       0.3103881 , 0.7223358 , 0.13318717, 0.5480639 , 0.5746088 ,\n",
       "       0.8996835 , 0.00946367, 0.5212307 , 0.6345445 , 0.1993283 ,\n",
       "       0.72942245, 0.54583454, 0.10756552, 0.6767061 , 0.6602763 ,\n",
       "       0.33695042, 0.60141766, 0.21062577, 0.8527372 , 0.44062173,\n",
       "       0.9485276 , 0.23752594, 0.81179297, 0.5263394 , 0.494308  ,\n",
       "       0.21612847, 0.8457197 , 0.8718841 , 0.3083862 , 0.6868038 ,\n",
       "       0.23764038, 0.7817228 , 0.9671384 , 0.06870162, 0.79873943,\n",
       "       0.66028714, 0.5871513 , 0.16461694, 0.7381023 , 0.32054043],\n",
       "      dtype=float32)>"
      ]
     },
     "execution_count": 203,
     "metadata": {},
     "output_type": "execute_result"
    }
   ],
   "source": [
    "# Create a new tensor for finding positional minimum and maximum\n",
    "tf.random.set_seed(42)\n",
    "f = tf.random.uniform(shape=[50])\n",
    "f"
   ]
  },
  {
   "cell_type": "code",
   "execution_count": 205,
   "id": "51061dde",
   "metadata": {
    "ExecuteTime": {
     "end_time": "2021-05-26T03:52:19.168695Z",
     "start_time": "2021-05-26T03:52:19.151562Z"
    }
   },
   "outputs": [
    {
     "data": {
      "text/plain": [
       "<tf.Tensor: shape=(), dtype=int64, numpy=42>"
      ]
     },
     "execution_count": 205,
     "metadata": {},
     "output_type": "execute_result"
    }
   ],
   "source": [
    "# Find the positional maximum \n",
    "tf.argmax(f)"
   ]
  },
  {
   "cell_type": "code",
   "execution_count": 207,
   "id": "1ac99fd4",
   "metadata": {
    "ExecuteTime": {
     "end_time": "2021-05-26T03:53:57.514859Z",
     "start_time": "2021-05-26T03:53:57.479947Z"
    }
   },
   "outputs": [
    {
     "data": {
      "text/plain": [
       "<tf.Tensor: shape=(), dtype=float32, numpy=0.9671384>"
      ]
     },
     "execution_count": 207,
     "metadata": {},
     "output_type": "execute_result"
    }
   ],
   "source": [
    "# Index on our largest value position\n",
    "f[tf.argmax(f)]"
   ]
  },
  {
   "cell_type": "code",
   "execution_count": 208,
   "id": "dd8b64d9",
   "metadata": {
    "ExecuteTime": {
     "end_time": "2021-05-26T03:55:02.305737Z",
     "start_time": "2021-05-26T03:55:02.284793Z"
    }
   },
   "outputs": [
    {
     "data": {
      "text/plain": [
       "<tf.Tensor: shape=(), dtype=float32, numpy=0.9671384>"
      ]
     },
     "execution_count": 208,
     "metadata": {},
     "output_type": "execute_result"
    }
   ],
   "source": [
    "# find the max value of \"f\"\n",
    "tf.reduce_max(f)"
   ]
  },
  {
   "cell_type": "code",
   "execution_count": 210,
   "id": "016e7478",
   "metadata": {
    "ExecuteTime": {
     "end_time": "2021-05-26T03:59:41.349362Z",
     "start_time": "2021-05-26T03:59:41.320450Z"
    }
   },
   "outputs": [
    {
     "data": {
      "text/plain": [
       "<tf.Tensor: shape=(), dtype=bool, numpy=True>"
      ]
     },
     "execution_count": 210,
     "metadata": {},
     "output_type": "execute_result"
    }
   ],
   "source": [
    "# Check for equlity\n",
    "f[tf.argmax(f)] == tf.reduce_max(f)"
   ]
  },
  {
   "cell_type": "code",
   "execution_count": 211,
   "id": "44959582",
   "metadata": {
    "ExecuteTime": {
     "end_time": "2021-05-26T04:01:21.391184Z",
     "start_time": "2021-05-26T04:01:21.369244Z"
    }
   },
   "outputs": [
    {
     "data": {
      "text/plain": [
       "<tf.Tensor: shape=(), dtype=int64, numpy=16>"
      ]
     },
     "execution_count": 211,
     "metadata": {},
     "output_type": "execute_result"
    }
   ],
   "source": [
    "# Find the positional minimum\n",
    "tf.argmin(f)"
   ]
  },
  {
   "cell_type": "code",
   "execution_count": 212,
   "id": "2195966a",
   "metadata": {
    "ExecuteTime": {
     "end_time": "2021-05-26T04:01:47.852731Z",
     "start_time": "2021-05-26T04:01:47.831786Z"
    }
   },
   "outputs": [
    {
     "data": {
      "text/plain": [
       "<tf.Tensor: shape=(), dtype=float32, numpy=0.009463668>"
      ]
     },
     "execution_count": 212,
     "metadata": {},
     "output_type": "execute_result"
    }
   ],
   "source": [
    "# find smallest value on our tensor\n",
    "f[tf.argmin(f)]"
   ]
  },
  {
   "cell_type": "code",
   "execution_count": 213,
   "id": "0a0debff",
   "metadata": {
    "ExecuteTime": {
     "end_time": "2021-05-26T04:04:04.237954Z",
     "start_time": "2021-05-26T04:04:04.225941Z"
    }
   },
   "outputs": [
    {
     "data": {
      "text/plain": [
       "<tf.Tensor: shape=(), dtype=float32, numpy=0.009463668>"
      ]
     },
     "execution_count": 213,
     "metadata": {},
     "output_type": "execute_result"
    }
   ],
   "source": [
    "# find the small value  of \"f\"\n",
    "tf.reduce_min(f)"
   ]
  },
  {
   "cell_type": "code",
   "execution_count": 214,
   "id": "6d7e8738",
   "metadata": {
    "ExecuteTime": {
     "end_time": "2021-05-26T04:04:55.839574Z",
     "start_time": "2021-05-26T04:04:55.817633Z"
    }
   },
   "outputs": [
    {
     "data": {
      "text/plain": [
       "<tf.Tensor: shape=(), dtype=bool, numpy=True>"
      ]
     },
     "execution_count": 214,
     "metadata": {},
     "output_type": "execute_result"
    }
   ],
   "source": [
    "# check the equlity \n",
    "f[tf.argmin(f)] == tf.reduce_min(f)"
   ]
  },
  {
   "cell_type": "markdown",
   "id": "2db8cc3c",
   "metadata": {},
   "source": [
    "### Squeezing a tensor (removing all single dimensions)"
   ]
  },
  {
   "cell_type": "code",
   "execution_count": 216,
   "id": "5ececca3",
   "metadata": {
    "ExecuteTime": {
     "end_time": "2021-05-26T04:09:42.682589Z",
     "start_time": "2021-05-26T04:09:42.666968Z"
    }
   },
   "outputs": [
    {
     "data": {
      "text/plain": [
       "<tf.Tensor: shape=(1, 1, 1, 1, 50), dtype=float32, numpy=\n",
       "array([[[[[0.6645621 , 0.44100678, 0.3528825 , 0.46448255, 0.03366041,\n",
       "           0.68467236, 0.74011743, 0.8724445 , 0.22632635, 0.22319686,\n",
       "           0.3103881 , 0.7223358 , 0.13318717, 0.5480639 , 0.5746088 ,\n",
       "           0.8996835 , 0.00946367, 0.5212307 , 0.6345445 , 0.1993283 ,\n",
       "           0.72942245, 0.54583454, 0.10756552, 0.6767061 , 0.6602763 ,\n",
       "           0.33695042, 0.60141766, 0.21062577, 0.8527372 , 0.44062173,\n",
       "           0.9485276 , 0.23752594, 0.81179297, 0.5263394 , 0.494308  ,\n",
       "           0.21612847, 0.8457197 , 0.8718841 , 0.3083862 , 0.6868038 ,\n",
       "           0.23764038, 0.7817228 , 0.9671384 , 0.06870162, 0.79873943,\n",
       "           0.66028714, 0.5871513 , 0.16461694, 0.7381023 , 0.32054043]]]]],\n",
       "      dtype=float32)>"
      ]
     },
     "execution_count": 216,
     "metadata": {},
     "output_type": "execute_result"
    }
   ],
   "source": [
    "# Create a tensor to get started\n",
    "tf.random.set_seed(42)\n",
    "g = tf.constant(tf.random.uniform(shape=[50]), shape=(1, 1, 1, 1, 50))\n",
    "g"
   ]
  },
  {
   "cell_type": "code",
   "execution_count": 218,
   "id": "62f87d4c",
   "metadata": {
    "ExecuteTime": {
     "end_time": "2021-05-26T04:10:34.749272Z",
     "start_time": "2021-05-26T04:10:34.736272Z"
    }
   },
   "outputs": [
    {
     "data": {
      "text/plain": [
       "TensorShape([1, 1, 1, 1, 50])"
      ]
     },
     "execution_count": 218,
     "metadata": {},
     "output_type": "execute_result"
    }
   ],
   "source": [
    "g.shape"
   ]
  },
  {
   "cell_type": "code",
   "execution_count": 219,
   "id": "72cc6512",
   "metadata": {
    "ExecuteTime": {
     "end_time": "2021-05-26T04:12:16.136507Z",
     "start_time": "2021-05-26T04:12:16.115564Z"
    }
   },
   "outputs": [
    {
     "data": {
      "text/plain": [
       "TensorShape([50])"
      ]
     },
     "execution_count": 219,
     "metadata": {},
     "output_type": "execute_result"
    }
   ],
   "source": [
    "g_squeezed = tf.squeeze(g)\n",
    "g_squeezed.shape"
   ]
  },
  {
   "cell_type": "markdown",
   "id": "e92476f4",
   "metadata": {},
   "source": [
    "### One Hot Encoding"
   ]
  },
  {
   "cell_type": "code",
   "execution_count": 220,
   "id": "b7173e00",
   "metadata": {
    "ExecuteTime": {
     "end_time": "2021-05-26T04:21:47.864580Z",
     "start_time": "2021-05-26T04:21:47.846154Z"
    }
   },
   "outputs": [
    {
     "data": {
      "text/plain": [
       "<tf.Tensor: shape=(4, 4), dtype=float32, numpy=\n",
       "array([[1., 0., 0., 0.],\n",
       "       [0., 1., 0., 0.],\n",
       "       [0., 0., 1., 0.],\n",
       "       [0., 0., 0., 1.]], dtype=float32)>"
      ]
     },
     "execution_count": 220,
     "metadata": {},
     "output_type": "execute_result"
    }
   ],
   "source": [
    "# Create a list of reduce\n",
    "some_list = [0, 1, 2, 3] # could be 'red', 'green', 'blue', 'purple'\n",
    "\n",
    "# One-Hot encode our list of indices\n",
    "tf.one_hot(some_list, depth=4) # \"depth\" : number of unique parameter"
   ]
  },
  {
   "cell_type": "code",
   "execution_count": 222,
   "id": "2b6168fe",
   "metadata": {
    "ExecuteTime": {
     "end_time": "2021-05-26T04:30:04.243808Z",
     "start_time": "2021-05-26T04:30:04.228810Z"
    }
   },
   "outputs": [
    {
     "data": {
      "text/plain": [
       "<tf.Tensor: shape=(4, 4), dtype=string, numpy=\n",
       "array([[b'on', b'off', b'off', b'off'],\n",
       "       [b'off', b'on', b'off', b'off'],\n",
       "       [b'off', b'off', b'on', b'off'],\n",
       "       [b'off', b'off', b'off', b'on']], dtype=object)>"
      ]
     },
     "execution_count": 222,
     "metadata": {},
     "output_type": "execute_result"
    }
   ],
   "source": [
    "# Specify custom values for one-hot encoding \n",
    "tf.one_hot(some_list, depth=4, on_value='on', off_value='off')"
   ]
  },
  {
   "cell_type": "markdown",
   "id": "1020bef7",
   "metadata": {},
   "source": [
    "### Squaring, log, square root"
   ]
  },
  {
   "cell_type": "code",
   "execution_count": 223,
   "id": "afc7efdc",
   "metadata": {
    "ExecuteTime": {
     "end_time": "2021-05-26T04:35:56.173070Z",
     "start_time": "2021-05-26T04:35:56.155120Z"
    }
   },
   "outputs": [
    {
     "data": {
      "text/plain": [
       "<tf.Tensor: shape=(9,), dtype=int32, numpy=array([1, 2, 3, 4, 5, 6, 7, 8, 9])>"
      ]
     },
     "execution_count": 223,
     "metadata": {},
     "output_type": "execute_result"
    }
   ],
   "source": [
    "# create a new tensor\n",
    "h = tf.range(1, 10)\n",
    "h"
   ]
  },
  {
   "cell_type": "code",
   "execution_count": 224,
   "id": "418b5939",
   "metadata": {
    "ExecuteTime": {
     "end_time": "2021-05-26T04:36:34.120286Z",
     "start_time": "2021-05-26T04:36:34.104664Z"
    }
   },
   "outputs": [
    {
     "data": {
      "text/plain": [
       "<tf.Tensor: shape=(9,), dtype=int32, numpy=array([ 1,  4,  9, 16, 25, 36, 49, 64, 81])>"
      ]
     },
     "execution_count": 224,
     "metadata": {},
     "output_type": "execute_result"
    }
   ],
   "source": [
    "# square it\n",
    "tf.square(h)"
   ]
  },
  {
   "cell_type": "code",
   "execution_count": 227,
   "id": "9685ebc6",
   "metadata": {
    "ExecuteTime": {
     "end_time": "2021-05-26T04:42:06.817709Z",
     "start_time": "2021-05-26T04:42:06.770836Z"
    }
   },
   "outputs": [
    {
     "ename": "InvalidArgumentError",
     "evalue": "Value for attr 'T' of int32 is not in the list of allowed values: bfloat16, half, float, double, complex64, complex128\n\t; NodeDef: {{node Sqrt}}; Op<name=Sqrt; signature=x:T -> y:T; attr=T:type,allowed=[DT_BFLOAT16, DT_HALF, DT_FLOAT, DT_DOUBLE, DT_COMPLEX64, DT_COMPLEX128]> [Op:Sqrt]",
     "output_type": "error",
     "traceback": [
      "\u001b[1;31m---------------------------------------------------------------------------\u001b[0m",
      "\u001b[1;31mInvalidArgumentError\u001b[0m                      Traceback (most recent call last)",
      "\u001b[1;32m<ipython-input-227-d2d0c02000ce>\u001b[0m in \u001b[0;36m<module>\u001b[1;34m\u001b[0m\n\u001b[0;32m      1\u001b[0m \u001b[1;31m# square-root it\u001b[0m\u001b[1;33m\u001b[0m\u001b[1;33m\u001b[0m\u001b[1;33m\u001b[0m\u001b[0m\n\u001b[1;32m----> 2\u001b[1;33m \u001b[0mtf\u001b[0m\u001b[1;33m.\u001b[0m\u001b[0msqrt\u001b[0m\u001b[1;33m(\u001b[0m\u001b[0mh\u001b[0m\u001b[1;33m)\u001b[0m\u001b[1;33m\u001b[0m\u001b[1;33m\u001b[0m\u001b[0m\n\u001b[0m",
      "\u001b[1;32mc:\\program files\\python39\\lib\\site-packages\\tensorflow\\python\\util\\dispatch.py\u001b[0m in \u001b[0;36mwrapper\u001b[1;34m(*args, **kwargs)\u001b[0m\n\u001b[0;32m    204\u001b[0m     \u001b[1;34m\"\"\"Call target, and fall back on dispatchers if there is a TypeError.\"\"\"\u001b[0m\u001b[1;33m\u001b[0m\u001b[1;33m\u001b[0m\u001b[0m\n\u001b[0;32m    205\u001b[0m     \u001b[1;32mtry\u001b[0m\u001b[1;33m:\u001b[0m\u001b[1;33m\u001b[0m\u001b[1;33m\u001b[0m\u001b[0m\n\u001b[1;32m--> 206\u001b[1;33m       \u001b[1;32mreturn\u001b[0m \u001b[0mtarget\u001b[0m\u001b[1;33m(\u001b[0m\u001b[1;33m*\u001b[0m\u001b[0margs\u001b[0m\u001b[1;33m,\u001b[0m \u001b[1;33m**\u001b[0m\u001b[0mkwargs\u001b[0m\u001b[1;33m)\u001b[0m\u001b[1;33m\u001b[0m\u001b[1;33m\u001b[0m\u001b[0m\n\u001b[0m\u001b[0;32m    207\u001b[0m     \u001b[1;32mexcept\u001b[0m \u001b[1;33m(\u001b[0m\u001b[0mTypeError\u001b[0m\u001b[1;33m,\u001b[0m \u001b[0mValueError\u001b[0m\u001b[1;33m)\u001b[0m\u001b[1;33m:\u001b[0m\u001b[1;33m\u001b[0m\u001b[1;33m\u001b[0m\u001b[0m\n\u001b[0;32m    208\u001b[0m       \u001b[1;31m# Note: convert_to_eager_tensor currently raises a ValueError, not a\u001b[0m\u001b[1;33m\u001b[0m\u001b[1;33m\u001b[0m\u001b[1;33m\u001b[0m\u001b[0m\n",
      "\u001b[1;32mc:\\program files\\python39\\lib\\site-packages\\tensorflow\\python\\ops\\math_ops.py\u001b[0m in \u001b[0;36msqrt\u001b[1;34m(x, name)\u001b[0m\n\u001b[0;32m   5084\u001b[0m     \u001b[0mA\u001b[0m\u001b[0;31m \u001b[0m\u001b[0;31m`\u001b[0m\u001b[0mtf\u001b[0m\u001b[1;33m.\u001b[0m\u001b[0mTensor\u001b[0m\u001b[0;31m`\u001b[0m \u001b[0mof\u001b[0m \u001b[0msame\u001b[0m \u001b[0msize\u001b[0m\u001b[1;33m,\u001b[0m \u001b[0mtype\u001b[0m \u001b[1;32mand\u001b[0m \u001b[0msparsity\u001b[0m \u001b[1;32mas\u001b[0m\u001b[0;31m \u001b[0m\u001b[0;31m`\u001b[0m\u001b[0mx\u001b[0m\u001b[0;31m`\u001b[0m\u001b[1;33m.\u001b[0m\u001b[1;33m\u001b[0m\u001b[1;33m\u001b[0m\u001b[0m\n\u001b[0;32m   5085\u001b[0m   \"\"\"\n\u001b[1;32m-> 5086\u001b[1;33m   \u001b[1;32mreturn\u001b[0m \u001b[0mgen_math_ops\u001b[0m\u001b[1;33m.\u001b[0m\u001b[0msqrt\u001b[0m\u001b[1;33m(\u001b[0m\u001b[0mx\u001b[0m\u001b[1;33m,\u001b[0m \u001b[0mname\u001b[0m\u001b[1;33m)\u001b[0m\u001b[1;33m\u001b[0m\u001b[1;33m\u001b[0m\u001b[0m\n\u001b[0m\u001b[0;32m   5087\u001b[0m \u001b[1;33m\u001b[0m\u001b[0m\n\u001b[0;32m   5088\u001b[0m \u001b[1;33m\u001b[0m\u001b[0m\n",
      "\u001b[1;32mc:\\program files\\python39\\lib\\site-packages\\tensorflow\\python\\ops\\gen_math_ops.py\u001b[0m in \u001b[0;36msqrt\u001b[1;34m(x, name)\u001b[0m\n\u001b[0;32m  10206\u001b[0m       \u001b[1;32mreturn\u001b[0m \u001b[0m_result\u001b[0m\u001b[1;33m\u001b[0m\u001b[1;33m\u001b[0m\u001b[0m\n\u001b[0;32m  10207\u001b[0m     \u001b[1;32mexcept\u001b[0m \u001b[0m_core\u001b[0m\u001b[1;33m.\u001b[0m\u001b[0m_NotOkStatusException\u001b[0m \u001b[1;32mas\u001b[0m \u001b[0me\u001b[0m\u001b[1;33m:\u001b[0m\u001b[1;33m\u001b[0m\u001b[1;33m\u001b[0m\u001b[0m\n\u001b[1;32m> 10208\u001b[1;33m       \u001b[0m_ops\u001b[0m\u001b[1;33m.\u001b[0m\u001b[0mraise_from_not_ok_status\u001b[0m\u001b[1;33m(\u001b[0m\u001b[0me\u001b[0m\u001b[1;33m,\u001b[0m \u001b[0mname\u001b[0m\u001b[1;33m)\u001b[0m\u001b[1;33m\u001b[0m\u001b[1;33m\u001b[0m\u001b[0m\n\u001b[0m\u001b[0;32m  10209\u001b[0m     \u001b[1;32mexcept\u001b[0m \u001b[0m_core\u001b[0m\u001b[1;33m.\u001b[0m\u001b[0m_FallbackException\u001b[0m\u001b[1;33m:\u001b[0m\u001b[1;33m\u001b[0m\u001b[1;33m\u001b[0m\u001b[0m\n\u001b[0;32m  10210\u001b[0m       \u001b[1;32mpass\u001b[0m\u001b[1;33m\u001b[0m\u001b[1;33m\u001b[0m\u001b[0m\n",
      "\u001b[1;32mc:\\program files\\python39\\lib\\site-packages\\tensorflow\\python\\framework\\ops.py\u001b[0m in \u001b[0;36mraise_from_not_ok_status\u001b[1;34m(e, name)\u001b[0m\n\u001b[0;32m   6895\u001b[0m   \u001b[0mmessage\u001b[0m \u001b[1;33m=\u001b[0m \u001b[0me\u001b[0m\u001b[1;33m.\u001b[0m\u001b[0mmessage\u001b[0m \u001b[1;33m+\u001b[0m \u001b[1;33m(\u001b[0m\u001b[1;34m\" name: \"\u001b[0m \u001b[1;33m+\u001b[0m \u001b[0mname\u001b[0m \u001b[1;32mif\u001b[0m \u001b[0mname\u001b[0m \u001b[1;32mis\u001b[0m \u001b[1;32mnot\u001b[0m \u001b[1;32mNone\u001b[0m \u001b[1;32melse\u001b[0m \u001b[1;34m\"\"\u001b[0m\u001b[1;33m)\u001b[0m\u001b[1;33m\u001b[0m\u001b[1;33m\u001b[0m\u001b[0m\n\u001b[0;32m   6896\u001b[0m   \u001b[1;31m# pylint: disable=protected-access\u001b[0m\u001b[1;33m\u001b[0m\u001b[1;33m\u001b[0m\u001b[1;33m\u001b[0m\u001b[0m\n\u001b[1;32m-> 6897\u001b[1;33m   \u001b[0msix\u001b[0m\u001b[1;33m.\u001b[0m\u001b[0mraise_from\u001b[0m\u001b[1;33m(\u001b[0m\u001b[0mcore\u001b[0m\u001b[1;33m.\u001b[0m\u001b[0m_status_to_exception\u001b[0m\u001b[1;33m(\u001b[0m\u001b[0me\u001b[0m\u001b[1;33m.\u001b[0m\u001b[0mcode\u001b[0m\u001b[1;33m,\u001b[0m \u001b[0mmessage\u001b[0m\u001b[1;33m)\u001b[0m\u001b[1;33m,\u001b[0m \u001b[1;32mNone\u001b[0m\u001b[1;33m)\u001b[0m\u001b[1;33m\u001b[0m\u001b[1;33m\u001b[0m\u001b[0m\n\u001b[0m\u001b[0;32m   6898\u001b[0m   \u001b[1;31m# pylint: enable=protected-access\u001b[0m\u001b[1;33m\u001b[0m\u001b[1;33m\u001b[0m\u001b[1;33m\u001b[0m\u001b[0m\n\u001b[0;32m   6899\u001b[0m \u001b[1;33m\u001b[0m\u001b[0m\n",
      "\u001b[1;32mc:\\program files\\python39\\lib\\site-packages\\six.py\u001b[0m in \u001b[0;36mraise_from\u001b[1;34m(value, from_value)\u001b[0m\n",
      "\u001b[1;31mInvalidArgumentError\u001b[0m: Value for attr 'T' of int32 is not in the list of allowed values: bfloat16, half, float, double, complex64, complex128\n\t; NodeDef: {{node Sqrt}}; Op<name=Sqrt; signature=x:T -> y:T; attr=T:type,allowed=[DT_BFLOAT16, DT_HALF, DT_FLOAT, DT_DOUBLE, DT_COMPLEX64, DT_COMPLEX128]> [Op:Sqrt]"
     ]
    }
   ],
   "source": [
    "# square-root it\n",
    "tf.sqrt(h)"
   ]
  },
  {
   "cell_type": "markdown",
   "id": "51e0e1b1",
   "metadata": {},
   "source": [
    "**Will Error because `dtype=int32` is not supported for `Square-Root`.**"
   ]
  },
  {
   "cell_type": "code",
   "execution_count": 226,
   "id": "30a69638",
   "metadata": {
    "ExecuteTime": {
     "end_time": "2021-05-26T04:40:28.077444Z",
     "start_time": "2021-05-26T04:40:28.068469Z"
    }
   },
   "outputs": [
    {
     "data": {
      "text/plain": [
       "<tf.Tensor: shape=(9,), dtype=float32, numpy=\n",
       "array([0.99999994, 1.4142134 , 1.7320508 , 1.9999999 , 2.236068  ,\n",
       "       2.4494896 , 2.6457512 , 2.8284268 , 3.        ], dtype=float32)>"
      ]
     },
     "execution_count": 226,
     "metadata": {},
     "output_type": "execute_result"
    }
   ],
   "source": [
    "# square-root it\n",
    "tf.sqrt(tf.cast(h, dtype=tf.float32)) # that's why I converted to \"float32\""
   ]
  },
  {
   "cell_type": "code",
   "execution_count": 230,
   "id": "da715f29",
   "metadata": {
    "ExecuteTime": {
     "end_time": "2021-05-26T04:48:53.270339Z",
     "start_time": "2021-05-26T04:48:53.260401Z"
    }
   },
   "outputs": [
    {
     "data": {
      "text/plain": [
       "<tf.Tensor: shape=(9,), dtype=float32, numpy=\n",
       "array([0.       , 0.6931472, 1.0986123, 1.3862944, 1.609438 , 1.7917595,\n",
       "       1.9459102, 2.0794415, 2.1972246], dtype=float32)>"
      ]
     },
     "execution_count": 230,
     "metadata": {},
     "output_type": "execute_result"
    }
   ],
   "source": [
    "# Find the log\n",
    "tf.math.log(tf.cast(h, tf.float32))"
   ]
  },
  {
   "cell_type": "markdown",
   "id": "27fbe2c5",
   "metadata": {},
   "source": [
    "### Tensors and NumPy\n",
    "\n",
    "TensorFlow interacts beautifully with NumPy arrays."
   ]
  },
  {
   "cell_type": "code",
   "execution_count": 231,
   "id": "f02d1fb1",
   "metadata": {
    "ExecuteTime": {
     "end_time": "2021-05-26T04:57:35.590809Z",
     "start_time": "2021-05-26T04:57:35.568870Z"
    }
   },
   "outputs": [
    {
     "data": {
      "text/plain": [
       "<tf.Tensor: shape=(3,), dtype=float64, numpy=array([ 3.,  7., 10.])>"
      ]
     },
     "execution_count": 231,
     "metadata": {},
     "output_type": "execute_result"
    }
   ],
   "source": [
    "# Create a tensor directly from  a numpy array\n",
    "j = tf.constant(np.array([3., 7., 10.]))\n",
    "j"
   ]
  },
  {
   "cell_type": "code",
   "execution_count": 232,
   "id": "f3f02a39",
   "metadata": {
    "ExecuteTime": {
     "end_time": "2021-05-26T04:59:05.673355Z",
     "start_time": "2021-05-26T04:59:05.651420Z"
    }
   },
   "outputs": [
    {
     "data": {
      "text/plain": [
       "(array([ 3.,  7., 10.]), numpy.ndarray)"
      ]
     },
     "execution_count": 232,
     "metadata": {},
     "output_type": "execute_result"
    }
   ],
   "source": [
    "# Convert our tensor back to a NumPy array\n",
    "np.array(j), type(np.array(j))"
   ]
  },
  {
   "cell_type": "code",
   "execution_count": 233,
   "id": "a8206ed2",
   "metadata": {
    "ExecuteTime": {
     "end_time": "2021-05-26T05:01:08.828766Z",
     "start_time": "2021-05-26T05:01:08.812771Z"
    }
   },
   "outputs": [
    {
     "data": {
      "text/plain": [
       "(array([ 3.,  7., 10.]), numpy.ndarray)"
      ]
     },
     "execution_count": 233,
     "metadata": {},
     "output_type": "execute_result"
    }
   ],
   "source": [
    "# Converrt tensor \"j\" to a NumPy array\n",
    "j.numpy(), type(j.numpy())"
   ]
  },
  {
   "cell_type": "code",
   "execution_count": 236,
   "id": "bdcae410",
   "metadata": {
    "ExecuteTime": {
     "end_time": "2021-05-26T05:06:26.091820Z",
     "start_time": "2021-05-26T05:06:26.075830Z"
    }
   },
   "outputs": [
    {
     "data": {
      "text/plain": [
       "(tf.float64, tf.float32)"
      ]
     },
     "execution_count": 236,
     "metadata": {},
     "output_type": "execute_result"
    }
   ],
   "source": [
    "# The default type of each are slightly different\n",
    "numpy_j = tf.constant(np.array([3., 7., 10.]))\n",
    "tensor_j = tf.constant([3., 7., 10.])\n",
    "\n",
    "# check the datatyped of each\n",
    "numpy_j.dtype, tensor_j.dtype"
   ]
  },
  {
   "cell_type": "markdown",
   "id": "5616020e",
   "metadata": {},
   "source": [
    "### Finding access to GPUs"
   ]
  },
  {
   "cell_type": "code",
   "execution_count": 1,
   "id": "e2a04277",
   "metadata": {
    "ExecuteTime": {
     "end_time": "2021-05-26T05:28:04.814380Z",
     "start_time": "2021-05-26T05:28:01.134576Z"
    }
   },
   "outputs": [
    {
     "data": {
      "text/plain": [
       "[PhysicalDevice(name='/physical_device:CPU:0', device_type='CPU'),\n",
       " PhysicalDevice(name='/physical_device:GPU:0', device_type='GPU')]"
      ]
     },
     "execution_count": 1,
     "metadata": {},
     "output_type": "execute_result"
    }
   ],
   "source": [
    "import tensorflow as tf\n",
    "tf.config.list_physical_devices()"
   ]
  },
  {
   "cell_type": "code",
   "execution_count": 3,
   "id": "9deb1f23",
   "metadata": {
    "ExecuteTime": {
     "end_time": "2021-05-26T05:28:36.574488Z",
     "start_time": "2021-05-26T05:28:36.445813Z"
    }
   },
   "outputs": [
    {
     "name": "stdout",
     "output_type": "stream",
     "text": [
      "Wed May 26 10:58:36 2021       \n",
      "+-----------------------------------------------------------------------------+\n",
      "| NVIDIA-SMI 466.47       Driver Version: 466.47       CUDA Version: 11.3     |\n",
      "|-------------------------------+----------------------+----------------------+\n",
      "| GPU  Name            TCC/WDDM | Bus-Id        Disp.A | Volatile Uncorr. ECC |\n",
      "| Fan  Temp  Perf  Pwr:Usage/Cap|         Memory-Usage | GPU-Util  Compute M. |\n",
      "|                               |                      |               MIG M. |\n",
      "|===============================+======================+======================|\n",
      "|   0  NVIDIA GeForce ... WDDM  | 00000000:01:00.0 Off |                  N/A |\n",
      "| N/A   48C    P8    N/A /  N/A |     45MiB /  2048MiB |      0%      Default |\n",
      "|                               |                      |                  N/A |\n",
      "+-------------------------------+----------------------+----------------------+\n",
      "                                                                               \n",
      "+-----------------------------------------------------------------------------+\n",
      "| Processes:                                                                  |\n",
      "|  GPU   GI   CI        PID   Type   Process name                  GPU Memory |\n",
      "|        ID   ID                                                   Usage      |\n",
      "|=============================================================================|\n",
      "|    0   N/A  N/A     15456    C+G   ...ser\\Application\\brave.exe    N/A      |\n",
      "+-----------------------------------------------------------------------------+\n"
     ]
    }
   ],
   "source": [
    "!nvidia-smi"
   ]
  },
  {
   "cell_type": "code",
   "execution_count": null,
   "id": "7a2836ee",
   "metadata": {},
   "outputs": [],
   "source": []
  }
 ],
 "metadata": {
  "kernelspec": {
   "display_name": "Python 3 (ipykernel)",
   "language": "python",
   "name": "python3"
  },
  "language_info": {
   "codemirror_mode": {
    "name": "ipython",
    "version": 3
   },
   "file_extension": ".py",
   "mimetype": "text/x-python",
   "name": "python",
   "nbconvert_exporter": "python",
   "pygments_lexer": "ipython3",
   "version": "3.9.5"
  },
  "toc": {
   "base_numbering": 1,
   "nav_menu": {},
   "number_sections": true,
   "sideBar": true,
   "skip_h1_title": false,
   "title_cell": "Table of Contents",
   "title_sidebar": "Contents",
   "toc_cell": false,
   "toc_position": {},
   "toc_section_display": true,
   "toc_window_display": false
  },
  "varInspector": {
   "cols": {
    "lenName": 16,
    "lenType": 16,
    "lenVar": 40
   },
   "kernels_config": {
    "python": {
     "delete_cmd_postfix": "",
     "delete_cmd_prefix": "del ",
     "library": "var_list.py",
     "varRefreshCmd": "print(var_dic_list())"
    },
    "r": {
     "delete_cmd_postfix": ") ",
     "delete_cmd_prefix": "rm(",
     "library": "var_list.r",
     "varRefreshCmd": "cat(var_dic_list()) "
    }
   },
   "oldHeight": 295.72436400000004,
   "position": {
    "height": "317.699px",
    "left": "764.736px",
    "right": "20px",
    "top": "243.92px",
    "width": "435.966px"
   },
   "types_to_exclude": [
    "module",
    "function",
    "builtin_function_or_method",
    "instance",
    "_Feature"
   ],
   "varInspector_section_display": "block",
   "window_display": false
  }
 },
 "nbformat": 4,
 "nbformat_minor": 5
}
